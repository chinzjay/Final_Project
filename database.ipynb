{
  "nbformat": 4,
  "nbformat_minor": 0,
  "metadata": {
    "colab": {
      "name": "database.ipynb",
      "provenance": [],
      "collapsed_sections": []
    },
    "kernelspec": {
      "name": "python3",
      "display_name": "Python 3"
    },
    "language_info": {
      "name": "python"
    }
  },
  "cells": [
    {
      "cell_type": "code",
      "execution_count": 1,
      "metadata": {
        "colab": {
          "base_uri": "https://localhost:8080/"
        },
        "id": "UCIfcE_sDZ5_",
        "outputId": "d64adb86-e3e1-4b9b-d837-e7f81b3977d9"
      },
      "outputs": [
        {
          "output_type": "stream",
          "name": "stdout",
          "text": [
            "Get:1 http://ppa.launchpad.net/c2d4u.team/c2d4u4.0+/ubuntu bionic InRelease [15.9 kB]\n",
            "Hit:2 http://archive.ubuntu.com/ubuntu bionic InRelease\n",
            "Get:3 http://archive.ubuntu.com/ubuntu bionic-updates InRelease [88.7 kB]\n",
            "Get:4 http://archive.ubuntu.com/ubuntu bionic-backports InRelease [74.6 kB]\n",
            "Get:5 https://cloud.r-project.org/bin/linux/ubuntu bionic-cran40/ InRelease [3,626 B]\n",
            "Hit:6 http://ppa.launchpad.net/cran/libgit2/ubuntu bionic InRelease\n",
            "Get:7 http://ppa.launchpad.net/deadsnakes/ppa/ubuntu bionic InRelease [15.9 kB]\n",
            "Hit:8 http://ppa.launchpad.net/graphics-drivers/ppa/ubuntu bionic InRelease\n",
            "Get:9 http://security.ubuntu.com/ubuntu bionic-security InRelease [88.7 kB]\n",
            "Ign:10 https://developer.download.nvidia.com/compute/cuda/repos/ubuntu1804/x86_64  InRelease\n",
            "Ign:11 https://developer.download.nvidia.com/compute/machine-learning/repos/ubuntu1804/x86_64  InRelease\n",
            "Get:12 https://developer.download.nvidia.com/compute/cuda/repos/ubuntu1804/x86_64  Release [696 B]\n",
            "Hit:13 https://developer.download.nvidia.com/compute/machine-learning/repos/ubuntu1804/x86_64  Release\n",
            "Get:14 https://developer.download.nvidia.com/compute/cuda/repos/ubuntu1804/x86_64  Release.gpg [836 B]\n",
            "Get:15 http://archive.ubuntu.com/ubuntu bionic-updates/universe amd64 Packages [2,242 kB]\n",
            "Get:16 http://archive.ubuntu.com/ubuntu bionic-updates/main amd64 Packages [2,954 kB]\n",
            "Get:17 http://archive.ubuntu.com/ubuntu bionic-updates/restricted amd64 Packages [771 kB]\n",
            "Get:18 https://cloud.r-project.org/bin/linux/ubuntu bionic-cran40/ Packages [76.0 kB]\n",
            "Get:19 http://ppa.launchpad.net/c2d4u.team/c2d4u4.0+/ubuntu bionic/main Sources [1,823 kB]\n",
            "Get:20 http://ppa.launchpad.net/c2d4u.team/c2d4u4.0+/ubuntu bionic/main amd64 Packages [934 kB]\n",
            "Get:21 http://ppa.launchpad.net/deadsnakes/ppa/ubuntu bionic/main amd64 Packages [45.3 kB]\n",
            "Get:23 https://developer.download.nvidia.com/compute/cuda/repos/ubuntu1804/x86_64  Packages [872 kB]\n",
            "Get:24 http://security.ubuntu.com/ubuntu bionic-security/main amd64 Packages [2,516 kB]\n",
            "Get:25 http://security.ubuntu.com/ubuntu bionic-security/universe amd64 Packages [1,463 kB]\n",
            "Get:26 http://security.ubuntu.com/ubuntu bionic-security/restricted amd64 Packages [738 kB]\n",
            "Fetched 14.7 MB in 4s (3,415 kB/s)\n",
            "Reading package lists... Done\n"
          ]
        }
      ],
      "source": [
        "import os\n",
        "# Find the latest version of spark 3.0  from http://www.apache.org/dist/spark/ and enter as the spark version\n",
        "spark_version = 'spark-3.0.3'\n",
        "os.environ['SPARK_VERSION']=spark_version\n",
        "\n",
        "# Install Spark and Java\n",
        "!apt-get update\n",
        "!apt-get install openjdk-11-jdk-headless -qq > /dev/null\n",
        "!wget -q http://www.apache.org/dist/spark/$SPARK_VERSION/$SPARK_VERSION-bin-hadoop2.7.tgz\n",
        "!tar xf $SPARK_VERSION-bin-hadoop2.7.tgz\n",
        "!pip install -q findspark\n",
        "\n",
        "# Set Environment Variables\n",
        "import os\n",
        "os.environ[\"JAVA_HOME\"] = \"/usr/lib/jvm/java-11-openjdk-amd64\"\n",
        "os.environ[\"SPARK_HOME\"] = f\"/content/{spark_version}-bin-hadoop2.7\"\n",
        "\n",
        "# Start a SparkSession\n",
        "import findspark\n",
        "findspark.init()"
      ]
    },
    {
      "cell_type": "code",
      "source": [
        "# Download the Postgres driver that will allow Spark to interact with Postgres.\n",
        "!wget https://jdbc.postgresql.org/download/postgresql-42.3.1.jar"
      ],
      "metadata": {
        "id": "wwMSRLNwECCq",
        "colab": {
          "base_uri": "https://localhost:8080/"
        },
        "outputId": "01217779-ff94-481a-8ce3-15f071b27f3a"
      },
      "execution_count": 2,
      "outputs": [
        {
          "output_type": "stream",
          "name": "stdout",
          "text": [
            "--2022-01-22 03:03:12--  https://jdbc.postgresql.org/download/postgresql-42.3.1.jar\n",
            "Resolving jdbc.postgresql.org (jdbc.postgresql.org)... 72.32.157.228, 2001:4800:3e1:1::228\n",
            "Connecting to jdbc.postgresql.org (jdbc.postgresql.org)|72.32.157.228|:443... connected.\n",
            "HTTP request sent, awaiting response... 200 OK\n",
            "Length: 1015689 (992K) [application/java-archive]\n",
            "Saving to: ‘postgresql-42.3.1.jar’\n",
            "\n",
            "postgresql-42.3.1.j 100%[===================>] 991.88K  1.70MB/s    in 0.6s    \n",
            "\n",
            "2022-01-22 03:03:14 (1.70 MB/s) - ‘postgresql-42.3.1.jar’ saved [1015689/1015689]\n",
            "\n"
          ]
        }
      ]
    },
    {
      "cell_type": "code",
      "source": [
        "# Create Spark session\n",
        "from pyspark.sql import SparkSession\n",
        "spark = SparkSession\\\n",
        "        .builder \\\n",
        "        .appName(\"tourism-db\") \\\n",
        "        .config(\"spark.driver.extraClassPath\",\"/content/postgresql-42.3.1.jar\") \\\n",
        "        .getOrCreate()"
      ],
      "metadata": {
        "id": "aw0NhaGAECO-"
      },
      "execution_count": 3,
      "outputs": []
    },
    {
      "cell_type": "markdown",
      "source": [
        "Load Amazon Data into Spark DataFrame"
      ],
      "metadata": {
        "id": "8-6tkFqjzY3H"
      }
    },
    {
      "cell_type": "code",
      "source": [
        "# Loading inbound_tourist.csv data from AWS\n",
        "from pyspark import SparkFiles\n",
        "spark.sparkContext.addFile('https://tourism-project.s3.us-east-2.amazonaws.com/clean_inbound_data_thousands.csv')\n",
        "inbound_df= spark.read.csv(SparkFiles.get('clean_inbound_data_thousands.csv'), header=True, inferSchema=True)\n",
        "inbound_df.show()"
      ],
      "metadata": {
        "colab": {
          "base_uri": "https://localhost:8080/"
        },
        "id": "pnt7BJEfE3Cr",
        "outputId": "3f177eee-0988-4104-af73-aecd7a3cbcee"
      },
      "execution_count": 4,
      "outputs": [
        {
          "output_type": "stream",
          "name": "stdout",
          "text": [
            "+--------------------+----+--------+--------+------+------+--------+---------------------+------+-----------+----------+--------------------+\n",
            "|             Country|Year|Personal|Business| Total|Africa|Americas|East Asia and Pacific|Europe|Middle East|South Asia|Other not Classified|\n",
            "+--------------------+----+--------+--------+------+------+--------+---------------------+------+-----------+----------+--------------------+\n",
            "|      american samoa|1995|    28.0|     6.0|  34.0|   0.0|     0.0|                  0.0|   0.0|        0.0|       0.0|                 0.0|\n",
            "|              angola|1995|     6.0|     3.0|   9.0|   2.0|     1.0|                  0.0|   6.0|        0.0|       0.0|                 0.0|\n",
            "|            anguilla|1995|   104.8|     2.3| 107.1|   0.0|    35.0|                  0.0|   2.0|        0.0|       0.0|                 1.0|\n",
            "| antigua and barbuda|1995|   186.0|     5.0| 191.0|   0.0|   124.0|                  0.0|  84.0|        0.0|       0.0|                 4.0|\n",
            "|             armenia|1995|    10.0|     2.0|  12.0|   0.0|     2.0|                  0.0|   8.0|        0.0|       1.0|                 0.0|\n",
            "|               aruba|1995|   604.0|    15.0| 619.0|   0.0|   565.0|                  0.0|  52.0|        0.0|       0.0|                 2.0|\n",
            "|           australia|1995|  3156.0|   570.0|3726.0|  43.0|   382.0|               2491.0| 762.0|       17.0|      28.0|                 3.0|\n",
            "|          azerbaijan|1995|    58.0|    35.0|  93.0|   0.0|     0.0|                  0.0|   0.0|        0.0|       0.0|                 0.0|\n",
            "|             bahamas|1995|  1477.0|   121.0|1598.0|   0.0|  1433.0|                 20.0| 115.0|        0.0|       0.0|                30.0|\n",
            "|             bahrain|1995|  1273.0|   122.0|1395.0|  10.0|    79.0|                 75.0| 156.0|     1782.0|     209.0|                 0.0|\n",
            "|          bangladesh|1995|   108.0|    48.0| 156.0|   1.0|    13.0|                 26.0|  49.0|        3.0|      64.0|                 0.0|\n",
            "|            barbados|1995|   423.0|    19.0| 442.0|   0.0|   238.0|                  3.0| 195.0|        0.0|       0.0|                 6.0|\n",
            "|             belgium|1995|  3621.0|  1939.0|5560.0|  56.0|   373.0|                230.0|4827.0|       15.0|      22.0|                37.0|\n",
            "|              belize|1995|   332.0|    10.0| 342.0|   0.0|   314.0|                  5.0|  41.0|        0.0|       0.0|                 0.0|\n",
            "|             bermuda|1995|   330.0|    57.0| 387.0|   0.0|   349.0|                  1.0|  30.0|        0.0|       0.0|                 8.0|\n",
            "|              bhutan|1995|     4.8|     0.0|   4.8|   0.0|     1.0|                  1.5|   2.2|        0.0|       0.0|                 0.1|\n",
            "|bolivia, plurinat...|1995|   178.0|   106.0| 284.0|   1.0|   171.0|                 11.0| 101.0|        0.0|       0.0|                 0.0|\n",
            "|            botswana|1995|   471.0|    50.0| 521.0| 463.0|     7.0|                  7.0|  29.0|        0.0|       1.0|                14.0|\n",
            "|              brazil|1995|  1455.0|   536.0|1991.0|  19.0|  1374.0|                 67.0| 517.0|        5.0|       0.0|                 9.0|\n",
            "|british virgin is...|1995|   218.0|     1.0| 219.0|   0.0|   194.0|                  0.0|  21.0|        0.0|       0.0|                 4.0|\n",
            "+--------------------+----+--------+--------+------+------+--------+---------------------+------+-----------+----------+--------------------+\n",
            "only showing top 20 rows\n",
            "\n"
          ]
        }
      ]
    },
    {
      "cell_type": "code",
      "source": [
        "# Loading world_indicators.csv data from AWS\n",
        "spark.sparkContext.addFile('https://tourism-project.s3.us-east-2.amazonaws.com/clean_world_ind.csv')\n",
        "world_ind_df= spark.read.csv(SparkFiles.get('clean_world_ind.csv'), header=True, inferSchema=True)\n",
        "world_ind_df.show()"
      ],
      "metadata": {
        "colab": {
          "base_uri": "https://localhost:8080/"
        },
        "id": "E7vtt0BFE3rY",
        "outputId": "52732d3f-362b-4efc-f1cd-3db7b65cd19b"
      },
      "execution_count": 5,
      "outputs": [
        {
          "output_type": "stream",
          "name": "stdout",
          "text": [
            "+----------+--------------------+---------------+----------------+-----------------+---------------------+--------------+----------------------+--------------------+------------------+-----------------+---------------+----------------+--------------+----------------+----------------+------+---------------+----------------+----+------+\n",
            "|Birth Rate|             Country|            GDP|Health Exp % GDP|Health Exp/Capita|Infant Mortality Rate|Internet Usage|Life Expectancy Female|Life Expectancy Male|Mobile Phone Usage|Number of Records|Population 0-14|Population 15-64|Population 65+|Population Total|Population Urban|Region|Tourism Inbound|Tourism Outbound|Year|Header|\n",
            "+----------+--------------------+---------------+----------------+-----------------+---------------------+--------------+----------------------+--------------------+------------------+-----------------+---------------+----------------+--------------+----------------+----------------+------+---------------+----------------+----+------+\n",
            "|      0.02|             algeria|5.4790058957E10|           0.035|               60|                0.034|           0.0|                    71|                  67|               0.0|                1|          0.342|           0.619|         0.039|        31719449|           0.599|Africa|         1.02E8|          1.93E8|2000|  Data|\n",
            "|      0.05|              angola|  9.129594819E9|           0.034|               22|                0.128|           0.0|                    47|                  44|               0.0|                1|          0.476|           0.499|         0.025|        13924930|           0.324|Africa|          3.4E7|          1.46E8|2000|  Data|\n",
            "|     0.043|               benin|  2.359122303E9|           0.043|               15|                 0.09|           0.0|                    57|                  53|               0.0|                1|          0.454|           0.517|         0.029|         6949366|           0.383|Africa|          7.7E7|           5.0E7|2000|  Data|\n",
            "|     0.027|            botswana|  5.788311645E9|           0.047|              152|                0.054|           0.0|                    52|                  49|               0.1|                1|          0.383|           0.587|         0.029|         1755375|           0.532|Africa|         2.27E8|          2.09E8|2000|  Data|\n",
            "|     0.046|        burkina faso|  2.610959139E9|           0.051|               12|                0.096|           0.0|                    52|                  49|               0.0|                1|          0.468|           0.505|         0.028|        11607944|           0.178|Africa|          2.3E7|           3.0E7|2000|  Data|\n",
            "|     0.042|             burundi|   8.70486066E8|           0.063|                7|                0.092|           0.0|                    49|                  47|               0.0|                1|           0.49|           0.481|         0.029|         6674286|           0.082|Africa|      1400000.0|           1.4E7|2000|  Data|\n",
            "|     0.041|            cameroon|  9.287367569E9|           0.044|               26|                0.093|           0.0|                    53|                  51|               0.0|                1|          0.453|           0.513|         0.034|        15927713|           0.455|Africa|         1.32E8|          2.41E8|2000|  Data|\n",
            "|     0.039|central african r...|   9.14500332E8|           0.043|               11|                0.113|           0.0|                    45|                  42|               0.0|                1|          0.423|           0.537|          0.04|         3638316|           0.376|Africa|      5000000.0|           3.3E7|2000|  Data|\n",
            "|     0.051|                chad|  1.385058212E9|           0.063|               10|                0.106|           0.0|                    48|                  46|               0.0|                1|           0.49|           0.482|         0.028|         8301151|           0.216|Africa|          1.4E7|           5.6E7|2000|  Data|\n",
            "|     0.039|             comoros|   2.01899884E8|           0.035|               13|                0.073|           0.0|                    59|                  56|              null|                1|          0.415|           0.554|         0.031|          528312|           0.281|Africa|          1.5E7|            null|2000|  Data|\n",
            "|     0.048|    congo, dem. rep.|1.9088046305E10|           0.048|               14|                0.115|           0.0|                    48|                  45|               0.0|                1|          0.464|           0.507|         0.028|        46949244|           0.351|Africa|           null|            null|2000|  Data|\n",
            "|     0.039|         congo, rep.|  3.219910666E9|           0.021|               22|                0.077|           0.0|                    53|                  51|               0.0|                1|          0.419|           0.545|         0.036|         3126204|           0.587|Africa|         1.24E7|           5.9E7|2000|  Data|\n",
            "|     0.038|       cote d'ivoire|1.0417060605E10|           0.065|               42|                  0.1|           0.0|                    47|                  46|               0.0|                1|          0.421|            0.55|         0.029|        16131332|           0.435|Africa|          5.3E7|          2.91E8|2000|  Data|\n",
            "|      0.03|            djibouti|   5.51230862E8|           0.058|               44|                 0.08|           0.0|                    59|                  55|               0.0|                1|          0.414|           0.556|          0.03|          722887|           0.765|Africa|      8100000.0|          1.48E7|2000|  Data|\n",
            "|     0.025|    egypt, arab rep.|9.9838540997E10|           0.054|               79|                0.036|           0.0|                    71|                  66|               0.0|                1|          0.354|           0.592|         0.053|        66136590|           0.428|Africa|        4.657E9|         1.206E9|2000|  Data|\n",
            "|      0.04|   equatorial guinea|  1.045998534E9|           0.024|               57|                0.099|           0.0|                    49|                  46|               0.0|                1|          0.426|           0.537|         0.037|          518179|           0.388|Africa|      5000000.0|           1.9E7|2000|  Data|\n",
            "|      0.04|             eritrea|   7.06370812E8|           0.045|                7|                0.058|           0.0|                    58|                  54|              null|                1|           0.47|           0.512|         0.018|         3939348|           0.176|Africa|          3.6E7|            null|2000|  Data|\n",
            "|     0.044|            ethiopia|  8.091384891E9|           0.043|                5|                 0.09|           0.0|                    53|                  51|               0.0|                1|          0.466|           0.503|         0.031|        66024199|           0.147|Africa|         2.05E8|           8.0E7|2000|  Data|\n",
            "|     0.034|               gabon|  5.067865503E9|           0.029|              118|                0.056|           0.0|                    61|                  59|               0.1|                1|          0.406|           0.535|         0.059|         1225527|           0.801|Africa|          9.9E7|          1.83E8|2000|  Data|\n",
            "|     0.045|         gambia, the|   7.82913866E8|           0.045|               29|                0.063|           0.0|                    56|                  54|               0.0|                1|          0.459|           0.514|         0.027|         1228863|           0.479|Africa|           null|            null|2000|  Data|\n",
            "+----------+--------------------+---------------+----------------+-----------------+---------------------+--------------+----------------------+--------------------+------------------+-----------------+---------------+----------------+--------------+----------------+----------------+------+---------------+----------------+----+------+\n",
            "only showing top 20 rows\n",
            "\n"
          ]
        }
      ]
    },
    {
      "cell_type": "markdown",
      "source": [
        "Create DataFrames to match tables"
      ],
      "metadata": {
        "id": "ZSauIty9z5g-"
      }
    },
    {
      "cell_type": "code",
      "source": [
        "#Create inbound_tourism table for the inboud_tourism data\n",
        "clean_inbound_df=inbound_df.withColumnRenamed(\"Country\", \"country\") \\\n",
        "                           .withColumnRenamed(\"Year\", \"year\") \\\n",
        "                           .withColumnRenamed(\"Personal\", \"personal\") \\\n",
        "                           .withColumnRenamed(\"Business\", \"business\") \\\n",
        "                           .withColumnRenamed(\"Total\", \"total\") \\\n",
        "                           .withColumnRenamed(\"Africa\", \"africa\") \\\n",
        "                           .withColumnRenamed(\"Americas\", \"americas\") \\\n",
        "                           .withColumnRenamed(\"East Asia and Pacific\", \"east_asia_and_pacific\") \\\n",
        "                           .withColumnRenamed(\"Europe\", \"europe\") \\\n",
        "                           .withColumnRenamed(\"Middle East\", \"middle_east\") \\\n",
        "                           .withColumnRenamed(\"South Asia\", \"south_asia\") \\\n",
        "                           .withColumnRenamed(\"Other not Classified\", \"others\")\n",
        "clean_inbound_df.show()                          "
      ],
      "metadata": {
        "colab": {
          "base_uri": "https://localhost:8080/"
        },
        "id": "1Rt1qfGsKAHQ",
        "outputId": "e652af72-bd72-4185-f7fb-c555a8de1246"
      },
      "execution_count": 6,
      "outputs": [
        {
          "output_type": "stream",
          "name": "stdout",
          "text": [
            "+--------------------+----+--------+--------+------+------+--------+---------------------+------+-----------+----------+------+\n",
            "|             country|year|personal|business| total|africa|americas|east_asia_and_pacific|europe|middle_east|south_asia|others|\n",
            "+--------------------+----+--------+--------+------+------+--------+---------------------+------+-----------+----------+------+\n",
            "|      american samoa|1995|    28.0|     6.0|  34.0|   0.0|     0.0|                  0.0|   0.0|        0.0|       0.0|   0.0|\n",
            "|              angola|1995|     6.0|     3.0|   9.0|   2.0|     1.0|                  0.0|   6.0|        0.0|       0.0|   0.0|\n",
            "|            anguilla|1995|   104.8|     2.3| 107.1|   0.0|    35.0|                  0.0|   2.0|        0.0|       0.0|   1.0|\n",
            "| antigua and barbuda|1995|   186.0|     5.0| 191.0|   0.0|   124.0|                  0.0|  84.0|        0.0|       0.0|   4.0|\n",
            "|             armenia|1995|    10.0|     2.0|  12.0|   0.0|     2.0|                  0.0|   8.0|        0.0|       1.0|   0.0|\n",
            "|               aruba|1995|   604.0|    15.0| 619.0|   0.0|   565.0|                  0.0|  52.0|        0.0|       0.0|   2.0|\n",
            "|           australia|1995|  3156.0|   570.0|3726.0|  43.0|   382.0|               2491.0| 762.0|       17.0|      28.0|   3.0|\n",
            "|          azerbaijan|1995|    58.0|    35.0|  93.0|   0.0|     0.0|                  0.0|   0.0|        0.0|       0.0|   0.0|\n",
            "|             bahamas|1995|  1477.0|   121.0|1598.0|   0.0|  1433.0|                 20.0| 115.0|        0.0|       0.0|  30.0|\n",
            "|             bahrain|1995|  1273.0|   122.0|1395.0|  10.0|    79.0|                 75.0| 156.0|     1782.0|     209.0|   0.0|\n",
            "|          bangladesh|1995|   108.0|    48.0| 156.0|   1.0|    13.0|                 26.0|  49.0|        3.0|      64.0|   0.0|\n",
            "|            barbados|1995|   423.0|    19.0| 442.0|   0.0|   238.0|                  3.0| 195.0|        0.0|       0.0|   6.0|\n",
            "|             belgium|1995|  3621.0|  1939.0|5560.0|  56.0|   373.0|                230.0|4827.0|       15.0|      22.0|  37.0|\n",
            "|              belize|1995|   332.0|    10.0| 342.0|   0.0|   314.0|                  5.0|  41.0|        0.0|       0.0|   0.0|\n",
            "|             bermuda|1995|   330.0|    57.0| 387.0|   0.0|   349.0|                  1.0|  30.0|        0.0|       0.0|   8.0|\n",
            "|              bhutan|1995|     4.8|     0.0|   4.8|   0.0|     1.0|                  1.5|   2.2|        0.0|       0.0|   0.1|\n",
            "|bolivia, plurinat...|1995|   178.0|   106.0| 284.0|   1.0|   171.0|                 11.0| 101.0|        0.0|       0.0|   0.0|\n",
            "|            botswana|1995|   471.0|    50.0| 521.0| 463.0|     7.0|                  7.0|  29.0|        0.0|       1.0|  14.0|\n",
            "|              brazil|1995|  1455.0|   536.0|1991.0|  19.0|  1374.0|                 67.0| 517.0|        5.0|       0.0|   9.0|\n",
            "|british virgin is...|1995|   218.0|     1.0| 219.0|   0.0|   194.0|                  0.0|  21.0|        0.0|       0.0|   4.0|\n",
            "+--------------------+----+--------+--------+------+------+--------+---------------------+------+-----------+----------+------+\n",
            "only showing top 20 rows\n",
            "\n"
          ]
        }
      ]
    },
    {
      "cell_type": "code",
      "source": [
        "#Create world_indicators table for the world_indicators data\n",
        "clean_world_ind_df=world_ind_df.withColumnRenamed(\"Birth Rate\", \"birth_rate\") \\\n",
        "                               .withColumnRenamed(\"Country\", \"country\") \\\n",
        "                               .withColumnRenamed(\"GDP\", \"gdp\") \\\n",
        "                               .withColumnRenamed(\"Health Exp % GDP\", \"health_exp_percent_gdp\") \\\n",
        "                               .withColumnRenamed(\"Health Exp/Capita\", \"health_exp_per_capita\") \\\n",
        "                               .withColumnRenamed(\"Infant Mortality Rate\", \"infant_mortality_rate\") \\\n",
        "                               .withColumnRenamed(\"Internet Usage\", \"internet_usage\") \\\n",
        "                               .withColumnRenamed(\"Life Expectancy Female\", \"life_expectancy_female\") \\\n",
        "                               .withColumnRenamed(\"Life Expectancy Male\", \"life_expectancy_male\") \\\n",
        "                               .withColumnRenamed(\"Mobile Phone Usage\", \"mobile_phone_usage\") \\\n",
        "                               .withColumnRenamed(\"Number of Records\", \"no_of_records\") \\\n",
        "                               .withColumnRenamed(\"Population 0-14\", \"population_0_to_14\") \\\n",
        "                               .withColumnRenamed(\"Population 15-64\", \"population_15_to_64\") \\\n",
        "                               .withColumnRenamed(\"Population 65+\", \"population_65_plus\") \\\n",
        "                               .withColumnRenamed(\"Population Total\", \"population_total\") \\\n",
        "                               .withColumnRenamed(\"Population Urban\", \"population_urban\") \\\n",
        "                               .withColumnRenamed(\"Region\", \"region\") \\\n",
        "                               .withColumnRenamed(\"Tourism Inbound\", \"tourism_inbound\") \\\n",
        "                               .withColumnRenamed(\"Tourism Outbound\", \"tourism_outbound\") \\\n",
        "                               .withColumnRenamed(\"Year\", \"year\") \\\n",
        "                               .withColumnRenamed(\"Header\", \"header\") \n",
        "clean_world_ind_df.show()                          "
      ],
      "metadata": {
        "colab": {
          "base_uri": "https://localhost:8080/"
        },
        "id": "0MU7PE2uMj6L",
        "outputId": "1777f6ef-fb7a-44dc-86d3-04c7c7ab247f"
      },
      "execution_count": 7,
      "outputs": [
        {
          "output_type": "stream",
          "name": "stdout",
          "text": [
            "+----------+--------------------+---------------+----------------------+---------------------+---------------------+--------------+----------------------+--------------------+------------------+-------------+------------------+-------------------+------------------+----------------+----------------+------+---------------+----------------+----+------+\n",
            "|birth_rate|             country|            gdp|health_exp_percent_gdp|health_exp_per_capita|infant_mortality_rate|internet_usage|life_expectancy_female|life_expectancy_male|mobile_phone_usage|no_of_records|population_0_to_14|population_15_to_64|population_65_plus|population_total|population_urban|region|tourism_inbound|tourism_outbound|year|header|\n",
            "+----------+--------------------+---------------+----------------------+---------------------+---------------------+--------------+----------------------+--------------------+------------------+-------------+------------------+-------------------+------------------+----------------+----------------+------+---------------+----------------+----+------+\n",
            "|      0.02|             algeria|5.4790058957E10|                 0.035|                   60|                0.034|           0.0|                    71|                  67|               0.0|            1|             0.342|              0.619|             0.039|        31719449|           0.599|Africa|         1.02E8|          1.93E8|2000|  Data|\n",
            "|      0.05|              angola|  9.129594819E9|                 0.034|                   22|                0.128|           0.0|                    47|                  44|               0.0|            1|             0.476|              0.499|             0.025|        13924930|           0.324|Africa|          3.4E7|          1.46E8|2000|  Data|\n",
            "|     0.043|               benin|  2.359122303E9|                 0.043|                   15|                 0.09|           0.0|                    57|                  53|               0.0|            1|             0.454|              0.517|             0.029|         6949366|           0.383|Africa|          7.7E7|           5.0E7|2000|  Data|\n",
            "|     0.027|            botswana|  5.788311645E9|                 0.047|                  152|                0.054|           0.0|                    52|                  49|               0.1|            1|             0.383|              0.587|             0.029|         1755375|           0.532|Africa|         2.27E8|          2.09E8|2000|  Data|\n",
            "|     0.046|        burkina faso|  2.610959139E9|                 0.051|                   12|                0.096|           0.0|                    52|                  49|               0.0|            1|             0.468|              0.505|             0.028|        11607944|           0.178|Africa|          2.3E7|           3.0E7|2000|  Data|\n",
            "|     0.042|             burundi|   8.70486066E8|                 0.063|                    7|                0.092|           0.0|                    49|                  47|               0.0|            1|              0.49|              0.481|             0.029|         6674286|           0.082|Africa|      1400000.0|           1.4E7|2000|  Data|\n",
            "|     0.041|            cameroon|  9.287367569E9|                 0.044|                   26|                0.093|           0.0|                    53|                  51|               0.0|            1|             0.453|              0.513|             0.034|        15927713|           0.455|Africa|         1.32E8|          2.41E8|2000|  Data|\n",
            "|     0.039|central african r...|   9.14500332E8|                 0.043|                   11|                0.113|           0.0|                    45|                  42|               0.0|            1|             0.423|              0.537|              0.04|         3638316|           0.376|Africa|      5000000.0|           3.3E7|2000|  Data|\n",
            "|     0.051|                chad|  1.385058212E9|                 0.063|                   10|                0.106|           0.0|                    48|                  46|               0.0|            1|              0.49|              0.482|             0.028|         8301151|           0.216|Africa|          1.4E7|           5.6E7|2000|  Data|\n",
            "|     0.039|             comoros|   2.01899884E8|                 0.035|                   13|                0.073|           0.0|                    59|                  56|              null|            1|             0.415|              0.554|             0.031|          528312|           0.281|Africa|          1.5E7|            null|2000|  Data|\n",
            "|     0.048|    congo, dem. rep.|1.9088046305E10|                 0.048|                   14|                0.115|           0.0|                    48|                  45|               0.0|            1|             0.464|              0.507|             0.028|        46949244|           0.351|Africa|           null|            null|2000|  Data|\n",
            "|     0.039|         congo, rep.|  3.219910666E9|                 0.021|                   22|                0.077|           0.0|                    53|                  51|               0.0|            1|             0.419|              0.545|             0.036|         3126204|           0.587|Africa|         1.24E7|           5.9E7|2000|  Data|\n",
            "|     0.038|       cote d'ivoire|1.0417060605E10|                 0.065|                   42|                  0.1|           0.0|                    47|                  46|               0.0|            1|             0.421|               0.55|             0.029|        16131332|           0.435|Africa|          5.3E7|          2.91E8|2000|  Data|\n",
            "|      0.03|            djibouti|   5.51230862E8|                 0.058|                   44|                 0.08|           0.0|                    59|                  55|               0.0|            1|             0.414|              0.556|              0.03|          722887|           0.765|Africa|      8100000.0|          1.48E7|2000|  Data|\n",
            "|     0.025|    egypt, arab rep.|9.9838540997E10|                 0.054|                   79|                0.036|           0.0|                    71|                  66|               0.0|            1|             0.354|              0.592|             0.053|        66136590|           0.428|Africa|        4.657E9|         1.206E9|2000|  Data|\n",
            "|      0.04|   equatorial guinea|  1.045998534E9|                 0.024|                   57|                0.099|           0.0|                    49|                  46|               0.0|            1|             0.426|              0.537|             0.037|          518179|           0.388|Africa|      5000000.0|           1.9E7|2000|  Data|\n",
            "|      0.04|             eritrea|   7.06370812E8|                 0.045|                    7|                0.058|           0.0|                    58|                  54|              null|            1|              0.47|              0.512|             0.018|         3939348|           0.176|Africa|          3.6E7|            null|2000|  Data|\n",
            "|     0.044|            ethiopia|  8.091384891E9|                 0.043|                    5|                 0.09|           0.0|                    53|                  51|               0.0|            1|             0.466|              0.503|             0.031|        66024199|           0.147|Africa|         2.05E8|           8.0E7|2000|  Data|\n",
            "|     0.034|               gabon|  5.067865503E9|                 0.029|                  118|                0.056|           0.0|                    61|                  59|               0.1|            1|             0.406|              0.535|             0.059|         1225527|           0.801|Africa|          9.9E7|          1.83E8|2000|  Data|\n",
            "|     0.045|         gambia, the|   7.82913866E8|                 0.045|                   29|                0.063|           0.0|                    56|                  54|               0.0|            1|             0.459|              0.514|             0.027|         1228863|           0.479|Africa|           null|            null|2000|  Data|\n",
            "+----------+--------------------+---------------+----------------------+---------------------+---------------------+--------------+----------------------+--------------------+------------------+-------------+------------------+-------------------+------------------+----------------+----------------+------+---------------+----------------+----+------+\n",
            "only showing top 20 rows\n",
            "\n"
          ]
        }
      ]
    },
    {
      "cell_type": "code",
      "source": [
        "# Configure settings for RDS\n",
        "mode = \"append\"\n",
        "config = {\"user\":\"postgres\", \n",
        "          \"password\": \"********\", \n",
        "          \"driver\":\"org.postgresql.Driver\"}"
      ],
      "metadata": {
        "id": "OjsqKnVipppt"
      },
      "execution_count": 8,
      "outputs": []
    },
    {
      "cell_type": "code",
      "source": [
        "# Write review_id_df to table in RDS\n",
        "jdbc_url=\"jdbc:postgresql://tourism.cwo7jzoryi7x.us-east-2.rds.amazonaws.com:5432/postgres\"\n",
        "clean_inbound_df.write.jdbc(url=jdbc_url, table='inbound_tourism', mode=mode, properties=config)"
      ],
      "metadata": {
        "id": "PR5bcM-Gpps-"
      },
      "execution_count": 14,
      "outputs": []
    },
    {
      "cell_type": "code",
      "source": [
        "# Write customers_df to table in RDS\n",
        "jdbc_url=\"jdbc:postgresql://tourism.cwo7jzoryi7x.us-east-2.rds.amazonaws.com:5432/postgres\"\n",
        "clean_world_ind_df.write.jdbc(url=jdbc_url, table='world_indicators', mode=mode, properties=config)"
      ],
      "metadata": {
        "id": "L_yQoE4cppvW"
      },
      "execution_count": 13,
      "outputs": []
    }
  ]
}