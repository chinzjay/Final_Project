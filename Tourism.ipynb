{
 "cells": [
  {
   "cell_type": "code",
   "execution_count": 1,
   "id": "fd5bec4a",
   "metadata": {},
   "outputs": [],
   "source": [
    "#Import our dependencies.\n",
    "import pandas as pd\n",
    "from pathlib import Path\n",
    "import matplotlib.pyplot as plt\n",
    "from sklearn.linear_model import LinearRegression"
   ]
  },
  {
   "cell_type": "code",
   "execution_count": 2,
   "id": "d11b873b",
   "metadata": {},
   "outputs": [],
   "source": [
    "import codecs\n",
    "file_path1 = codecs.open(\"clean_inbound_data_thousands.csv\", \"r\", \"ISO-8859-1\")\n",
    "file_path2 = codecs.open(\"clean_world_ind.csv\", \"r\", \"ISO-8859-1\")"
   ]
  },
  {
   "cell_type": "code",
   "execution_count": 3,
   "id": "c6921f6a",
   "metadata": {},
   "outputs": [
    {
     "data": {
      "text/html": [
       "<div>\n",
       "<style scoped>\n",
       "    .dataframe tbody tr th:only-of-type {\n",
       "        vertical-align: middle;\n",
       "    }\n",
       "\n",
       "    .dataframe tbody tr th {\n",
       "        vertical-align: top;\n",
       "    }\n",
       "\n",
       "    .dataframe thead th {\n",
       "        text-align: right;\n",
       "    }\n",
       "</style>\n",
       "<table border=\"1\" class=\"dataframe\">\n",
       "  <thead>\n",
       "    <tr style=\"text-align: right;\">\n",
       "      <th></th>\n",
       "      <th>Unnamed: 0</th>\n",
       "      <th>Country</th>\n",
       "      <th>Year</th>\n",
       "      <th>Personal</th>\n",
       "      <th>Business</th>\n",
       "      <th>Total</th>\n",
       "      <th>Africa</th>\n",
       "      <th>Americas</th>\n",
       "      <th>East Asia and Pacific</th>\n",
       "      <th>Europe</th>\n",
       "      <th>Middle East</th>\n",
       "      <th>South Asia</th>\n",
       "      <th>Other not Classified</th>\n",
       "    </tr>\n",
       "  </thead>\n",
       "  <tbody>\n",
       "    <tr>\n",
       "      <th>0</th>\n",
       "      <td>3</td>\n",
       "      <td>american samoa</td>\n",
       "      <td>1995</td>\n",
       "      <td>28.0</td>\n",
       "      <td>6.0</td>\n",
       "      <td>34.0</td>\n",
       "      <td>0.0</td>\n",
       "      <td>0.0</td>\n",
       "      <td>0.0</td>\n",
       "      <td>0.0</td>\n",
       "      <td>0.0</td>\n",
       "      <td>0.0</td>\n",
       "      <td>0.0</td>\n",
       "    </tr>\n",
       "    <tr>\n",
       "      <th>1</th>\n",
       "      <td>5</td>\n",
       "      <td>angola</td>\n",
       "      <td>1995</td>\n",
       "      <td>6.0</td>\n",
       "      <td>3.0</td>\n",
       "      <td>9.0</td>\n",
       "      <td>2.0</td>\n",
       "      <td>1.0</td>\n",
       "      <td>0.0</td>\n",
       "      <td>6.0</td>\n",
       "      <td>0.0</td>\n",
       "      <td>0.0</td>\n",
       "      <td>0.0</td>\n",
       "    </tr>\n",
       "    <tr>\n",
       "      <th>2</th>\n",
       "      <td>6</td>\n",
       "      <td>anguilla</td>\n",
       "      <td>1995</td>\n",
       "      <td>104.8</td>\n",
       "      <td>2.3</td>\n",
       "      <td>107.1</td>\n",
       "      <td>0.0</td>\n",
       "      <td>35.0</td>\n",
       "      <td>0.0</td>\n",
       "      <td>2.0</td>\n",
       "      <td>0.0</td>\n",
       "      <td>0.0</td>\n",
       "      <td>1.0</td>\n",
       "    </tr>\n",
       "    <tr>\n",
       "      <th>3</th>\n",
       "      <td>7</td>\n",
       "      <td>antigua and barbuda</td>\n",
       "      <td>1995</td>\n",
       "      <td>186.0</td>\n",
       "      <td>5.0</td>\n",
       "      <td>191.0</td>\n",
       "      <td>0.0</td>\n",
       "      <td>124.0</td>\n",
       "      <td>0.0</td>\n",
       "      <td>84.0</td>\n",
       "      <td>0.0</td>\n",
       "      <td>0.0</td>\n",
       "      <td>4.0</td>\n",
       "    </tr>\n",
       "    <tr>\n",
       "      <th>4</th>\n",
       "      <td>9</td>\n",
       "      <td>armenia</td>\n",
       "      <td>1995</td>\n",
       "      <td>10.0</td>\n",
       "      <td>2.0</td>\n",
       "      <td>12.0</td>\n",
       "      <td>0.0</td>\n",
       "      <td>2.0</td>\n",
       "      <td>0.0</td>\n",
       "      <td>8.0</td>\n",
       "      <td>0.0</td>\n",
       "      <td>1.0</td>\n",
       "      <td>0.0</td>\n",
       "    </tr>\n",
       "  </tbody>\n",
       "</table>\n",
       "</div>"
      ],
      "text/plain": [
       "   Unnamed: 0              Country  Year  Personal  Business  Total  Africa  \\\n",
       "0           3       american samoa  1995      28.0       6.0   34.0     0.0   \n",
       "1           5               angola  1995       6.0       3.0    9.0     2.0   \n",
       "2           6             anguilla  1995     104.8       2.3  107.1     0.0   \n",
       "3           7  antigua and barbuda  1995     186.0       5.0  191.0     0.0   \n",
       "4           9              armenia  1995      10.0       2.0   12.0     0.0   \n",
       "\n",
       "   Americas  East Asia and Pacific  Europe  Middle East  South Asia  \\\n",
       "0       0.0                    0.0     0.0          0.0         0.0   \n",
       "1       1.0                    0.0     6.0          0.0         0.0   \n",
       "2      35.0                    0.0     2.0          0.0         0.0   \n",
       "3     124.0                    0.0    84.0          0.0         0.0   \n",
       "4       2.0                    0.0     8.0          0.0         1.0   \n",
       "\n",
       "   Other not Classified  \n",
       "0                   0.0  \n",
       "1                   0.0  \n",
       "2                   1.0  \n",
       "3                   4.0  \n",
       "4                   0.0  "
      ]
     },
     "execution_count": 3,
     "metadata": {},
     "output_type": "execute_result"
    }
   ],
   "source": [
    "inbound_data_df = pd.read_csv(file_path1)\n",
    "inbound_data_df.head()"
   ]
  },
  {
   "cell_type": "code",
   "execution_count": 4,
   "id": "1afff40b",
   "metadata": {},
   "outputs": [
    {
     "name": "stdout",
     "output_type": "stream",
     "text": [
      "<class 'pandas.core.frame.DataFrame'>\n",
      "RangeIndex: 3667 entries, 0 to 3666\n",
      "Data columns (total 13 columns):\n",
      " #   Column                 Non-Null Count  Dtype  \n",
      "---  ------                 --------------  -----  \n",
      " 0   Unnamed: 0             3667 non-null   int64  \n",
      " 1   Country                3667 non-null   object \n",
      " 2   Year                   3667 non-null   int64  \n",
      " 3   Personal               3667 non-null   float64\n",
      " 4   Business               3667 non-null   float64\n",
      " 5   Total                  3667 non-null   float64\n",
      " 6   Africa                 3667 non-null   float64\n",
      " 7   Americas               3667 non-null   float64\n",
      " 8   East Asia and Pacific  3667 non-null   float64\n",
      " 9   Europe                 3667 non-null   float64\n",
      " 10  Middle East            3667 non-null   float64\n",
      " 11  South Asia             3667 non-null   float64\n",
      " 12  Other not Classified   3667 non-null   float64\n",
      "dtypes: float64(10), int64(2), object(1)\n",
      "memory usage: 372.6+ KB\n"
     ]
    }
   ],
   "source": [
    "inbound_data_df.info()"
   ]
  },
  {
   "cell_type": "code",
   "execution_count": 5,
   "id": "5d25131c",
   "metadata": {},
   "outputs": [
    {
     "data": {
      "text/html": [
       "<div>\n",
       "<style scoped>\n",
       "    .dataframe tbody tr th:only-of-type {\n",
       "        vertical-align: middle;\n",
       "    }\n",
       "\n",
       "    .dataframe tbody tr th {\n",
       "        vertical-align: top;\n",
       "    }\n",
       "\n",
       "    .dataframe thead th {\n",
       "        text-align: right;\n",
       "    }\n",
       "</style>\n",
       "<table border=\"1\" class=\"dataframe\">\n",
       "  <thead>\n",
       "    <tr style=\"text-align: right;\">\n",
       "      <th></th>\n",
       "      <th>Unnamed: 0</th>\n",
       "      <th>Birth Rate</th>\n",
       "      <th>Country</th>\n",
       "      <th>GDP</th>\n",
       "      <th>Health Exp % GDP</th>\n",
       "      <th>Health Exp/Capita</th>\n",
       "      <th>Infant Mortality Rate</th>\n",
       "      <th>Internet Usage</th>\n",
       "      <th>Life Expectancy Female</th>\n",
       "      <th>Life Expectancy Male</th>\n",
       "      <th>...</th>\n",
       "      <th>Population 0-14</th>\n",
       "      <th>Population 15-64</th>\n",
       "      <th>Population 65+</th>\n",
       "      <th>Population Total</th>\n",
       "      <th>Population Urban</th>\n",
       "      <th>Region</th>\n",
       "      <th>Tourism Inbound</th>\n",
       "      <th>Tourism Outbound</th>\n",
       "      <th>Year</th>\n",
       "      <th>Header</th>\n",
       "    </tr>\n",
       "  </thead>\n",
       "  <tbody>\n",
       "    <tr>\n",
       "      <th>0</th>\n",
       "      <td>0</td>\n",
       "      <td>0.020</td>\n",
       "      <td>algeria</td>\n",
       "      <td>5.479006e+10</td>\n",
       "      <td>0.035</td>\n",
       "      <td>60.0</td>\n",
       "      <td>0.034</td>\n",
       "      <td>0.0</td>\n",
       "      <td>71.0</td>\n",
       "      <td>67.0</td>\n",
       "      <td>...</td>\n",
       "      <td>0.342</td>\n",
       "      <td>0.619</td>\n",
       "      <td>0.039</td>\n",
       "      <td>31719449</td>\n",
       "      <td>0.599</td>\n",
       "      <td>Africa</td>\n",
       "      <td>102000000.0</td>\n",
       "      <td>193000000.0</td>\n",
       "      <td>2000</td>\n",
       "      <td>Data</td>\n",
       "    </tr>\n",
       "    <tr>\n",
       "      <th>1</th>\n",
       "      <td>1</td>\n",
       "      <td>0.050</td>\n",
       "      <td>angola</td>\n",
       "      <td>9.129595e+09</td>\n",
       "      <td>0.034</td>\n",
       "      <td>22.0</td>\n",
       "      <td>0.128</td>\n",
       "      <td>0.0</td>\n",
       "      <td>47.0</td>\n",
       "      <td>44.0</td>\n",
       "      <td>...</td>\n",
       "      <td>0.476</td>\n",
       "      <td>0.499</td>\n",
       "      <td>0.025</td>\n",
       "      <td>13924930</td>\n",
       "      <td>0.324</td>\n",
       "      <td>Africa</td>\n",
       "      <td>34000000.0</td>\n",
       "      <td>146000000.0</td>\n",
       "      <td>2000</td>\n",
       "      <td>Data</td>\n",
       "    </tr>\n",
       "    <tr>\n",
       "      <th>2</th>\n",
       "      <td>2</td>\n",
       "      <td>0.043</td>\n",
       "      <td>benin</td>\n",
       "      <td>2.359122e+09</td>\n",
       "      <td>0.043</td>\n",
       "      <td>15.0</td>\n",
       "      <td>0.090</td>\n",
       "      <td>0.0</td>\n",
       "      <td>57.0</td>\n",
       "      <td>53.0</td>\n",
       "      <td>...</td>\n",
       "      <td>0.454</td>\n",
       "      <td>0.517</td>\n",
       "      <td>0.029</td>\n",
       "      <td>6949366</td>\n",
       "      <td>0.383</td>\n",
       "      <td>Africa</td>\n",
       "      <td>77000000.0</td>\n",
       "      <td>50000000.0</td>\n",
       "      <td>2000</td>\n",
       "      <td>Data</td>\n",
       "    </tr>\n",
       "    <tr>\n",
       "      <th>3</th>\n",
       "      <td>3</td>\n",
       "      <td>0.027</td>\n",
       "      <td>botswana</td>\n",
       "      <td>5.788312e+09</td>\n",
       "      <td>0.047</td>\n",
       "      <td>152.0</td>\n",
       "      <td>0.054</td>\n",
       "      <td>0.0</td>\n",
       "      <td>52.0</td>\n",
       "      <td>49.0</td>\n",
       "      <td>...</td>\n",
       "      <td>0.383</td>\n",
       "      <td>0.587</td>\n",
       "      <td>0.029</td>\n",
       "      <td>1755375</td>\n",
       "      <td>0.532</td>\n",
       "      <td>Africa</td>\n",
       "      <td>227000000.0</td>\n",
       "      <td>209000000.0</td>\n",
       "      <td>2000</td>\n",
       "      <td>Data</td>\n",
       "    </tr>\n",
       "    <tr>\n",
       "      <th>4</th>\n",
       "      <td>4</td>\n",
       "      <td>0.046</td>\n",
       "      <td>burkina faso</td>\n",
       "      <td>2.610959e+09</td>\n",
       "      <td>0.051</td>\n",
       "      <td>12.0</td>\n",
       "      <td>0.096</td>\n",
       "      <td>0.0</td>\n",
       "      <td>52.0</td>\n",
       "      <td>49.0</td>\n",
       "      <td>...</td>\n",
       "      <td>0.468</td>\n",
       "      <td>0.505</td>\n",
       "      <td>0.028</td>\n",
       "      <td>11607944</td>\n",
       "      <td>0.178</td>\n",
       "      <td>Africa</td>\n",
       "      <td>23000000.0</td>\n",
       "      <td>30000000.0</td>\n",
       "      <td>2000</td>\n",
       "      <td>Data</td>\n",
       "    </tr>\n",
       "  </tbody>\n",
       "</table>\n",
       "<p>5 rows × 22 columns</p>\n",
       "</div>"
      ],
      "text/plain": [
       "   Unnamed: 0  Birth Rate       Country           GDP  Health Exp % GDP  \\\n",
       "0           0       0.020       algeria  5.479006e+10             0.035   \n",
       "1           1       0.050        angola  9.129595e+09             0.034   \n",
       "2           2       0.043         benin  2.359122e+09             0.043   \n",
       "3           3       0.027      botswana  5.788312e+09             0.047   \n",
       "4           4       0.046  burkina faso  2.610959e+09             0.051   \n",
       "\n",
       "   Health Exp/Capita  Infant Mortality Rate  Internet Usage  \\\n",
       "0               60.0                  0.034             0.0   \n",
       "1               22.0                  0.128             0.0   \n",
       "2               15.0                  0.090             0.0   \n",
       "3              152.0                  0.054             0.0   \n",
       "4               12.0                  0.096             0.0   \n",
       "\n",
       "   Life Expectancy Female  Life Expectancy Male  ...  Population 0-14  \\\n",
       "0                    71.0                  67.0  ...            0.342   \n",
       "1                    47.0                  44.0  ...            0.476   \n",
       "2                    57.0                  53.0  ...            0.454   \n",
       "3                    52.0                  49.0  ...            0.383   \n",
       "4                    52.0                  49.0  ...            0.468   \n",
       "\n",
       "   Population 15-64  Population 65+  Population Total  Population Urban  \\\n",
       "0             0.619           0.039          31719449             0.599   \n",
       "1             0.499           0.025          13924930             0.324   \n",
       "2             0.517           0.029           6949366             0.383   \n",
       "3             0.587           0.029           1755375             0.532   \n",
       "4             0.505           0.028          11607944             0.178   \n",
       "\n",
       "   Region  Tourism Inbound Tourism Outbound  Year  Header  \n",
       "0  Africa      102000000.0      193000000.0  2000    Data  \n",
       "1  Africa       34000000.0      146000000.0  2000    Data  \n",
       "2  Africa       77000000.0       50000000.0  2000    Data  \n",
       "3  Africa      227000000.0      209000000.0  2000    Data  \n",
       "4  Africa       23000000.0       30000000.0  2000    Data  \n",
       "\n",
       "[5 rows x 22 columns]"
      ]
     },
     "execution_count": 5,
     "metadata": {},
     "output_type": "execute_result"
    }
   ],
   "source": [
    "world_ind_df = pd.read_csv(file_path2)\n",
    "world_ind_df.head()"
   ]
  },
  {
   "cell_type": "code",
   "execution_count": 6,
   "id": "9e1c9dd1",
   "metadata": {},
   "outputs": [
    {
     "name": "stdout",
     "output_type": "stream",
     "text": [
      "<class 'pandas.core.frame.DataFrame'>\n",
      "RangeIndex: 2704 entries, 0 to 2703\n",
      "Data columns (total 22 columns):\n",
      " #   Column                  Non-Null Count  Dtype  \n",
      "---  ------                  --------------  -----  \n",
      " 0   Unnamed: 0              2704 non-null   int64  \n",
      " 1   Birth Rate              2585 non-null   float64\n",
      " 2   Country                 2704 non-null   object \n",
      " 3   GDP                     2494 non-null   float64\n",
      " 4   Health Exp % GDP        2395 non-null   float64\n",
      " 5   Health Exp/Capita       2395 non-null   float64\n",
      " 6   Infant Mortality Rate   2444 non-null   float64\n",
      " 7   Internet Usage          2531 non-null   float64\n",
      " 8   Life Expectancy Female  2568 non-null   float64\n",
      " 9   Life Expectancy Male    2568 non-null   float64\n",
      " 10  Mobile Phone Usage      2537 non-null   float64\n",
      " 11  Number of Records       2704 non-null   int64  \n",
      " 12  Population 0-14         2484 non-null   float64\n",
      " 13  Population 15-64        2484 non-null   float64\n",
      " 14  Population 65+          2484 non-null   float64\n",
      " 15  Population Total        2704 non-null   int64  \n",
      " 16  Population Urban        2678 non-null   float64\n",
      " 17  Region                  2704 non-null   object \n",
      " 18  Tourism Inbound         2336 non-null   float64\n",
      " 19  Tourism Outbound        2233 non-null   float64\n",
      " 20  Year                    2704 non-null   int64  \n",
      " 21  Header                  2704 non-null   object \n",
      "dtypes: float64(15), int64(4), object(3)\n",
      "memory usage: 464.9+ KB\n"
     ]
    }
   ],
   "source": [
    "world_ind_df.info()"
   ]
  },
  {
   "cell_type": "code",
   "execution_count": 7,
   "id": "ae32e5d8",
   "metadata": {},
   "outputs": [],
   "source": [
    "#Drop Unnamed:0 Column.\n",
    "inbound_data_df.drop([\"Unnamed: 0\"], axis=1, inplace=True)"
   ]
  },
  {
   "cell_type": "code",
   "execution_count": 8,
   "id": "79995544",
   "metadata": {},
   "outputs": [],
   "source": [
    "world_ind_df.drop([\"Unnamed: 0\"], axis=1, inplace=True)"
   ]
  },
  {
   "cell_type": "code",
   "execution_count": 9,
   "id": "fe1a99fd",
   "metadata": {},
   "outputs": [
    {
     "data": {
      "text/plain": [
       "Country                   object\n",
       "Year                       int64\n",
       "Personal                 float64\n",
       "Business                 float64\n",
       "Total                    float64\n",
       "Africa                   float64\n",
       "Americas                 float64\n",
       "East Asia and Pacific    float64\n",
       "Europe                   float64\n",
       "Middle East              float64\n",
       "South Asia               float64\n",
       "Other not Classified     float64\n",
       "dtype: object"
      ]
     },
     "execution_count": 9,
     "metadata": {},
     "output_type": "execute_result"
    }
   ],
   "source": [
    "inbound_data_df.dtypes"
   ]
  },
  {
   "cell_type": "code",
   "execution_count": 10,
   "id": "cb1342df",
   "metadata": {},
   "outputs": [
    {
     "data": {
      "text/plain": [
       "Birth Rate                float64\n",
       "Country                    object\n",
       "GDP                       float64\n",
       "Health Exp % GDP          float64\n",
       "Health Exp/Capita         float64\n",
       "Infant Mortality Rate     float64\n",
       "Internet Usage            float64\n",
       "Life Expectancy Female    float64\n",
       "Life Expectancy Male      float64\n",
       "Mobile Phone Usage        float64\n",
       "Number of Records           int64\n",
       "Population 0-14           float64\n",
       "Population 15-64          float64\n",
       "Population 65+            float64\n",
       "Population Total            int64\n",
       "Population Urban          float64\n",
       "Region                     object\n",
       "Tourism Inbound           float64\n",
       "Tourism Outbound          float64\n",
       "Year                        int64\n",
       "Header                     object\n",
       "dtype: object"
      ]
     },
     "execution_count": 10,
     "metadata": {},
     "output_type": "execute_result"
    }
   ],
   "source": [
    "world_ind_df.dtypes"
   ]
  },
  {
   "cell_type": "code",
   "execution_count": 11,
   "id": "0e9b2e1a",
   "metadata": {},
   "outputs": [
    {
     "data": {
      "text/html": [
       "<div>\n",
       "<style scoped>\n",
       "    .dataframe tbody tr th:only-of-type {\n",
       "        vertical-align: middle;\n",
       "    }\n",
       "\n",
       "    .dataframe tbody tr th {\n",
       "        vertical-align: top;\n",
       "    }\n",
       "\n",
       "    .dataframe thead th {\n",
       "        text-align: right;\n",
       "    }\n",
       "</style>\n",
       "<table border=\"1\" class=\"dataframe\">\n",
       "  <thead>\n",
       "    <tr style=\"text-align: right;\">\n",
       "      <th></th>\n",
       "      <th>Country</th>\n",
       "      <th>Year</th>\n",
       "      <th>Personal</th>\n",
       "      <th>Business</th>\n",
       "      <th>Total</th>\n",
       "      <th>Africa</th>\n",
       "      <th>Americas</th>\n",
       "      <th>East Asia and Pacific</th>\n",
       "      <th>Europe</th>\n",
       "      <th>Middle East</th>\n",
       "      <th>...</th>\n",
       "      <th>Number of Records</th>\n",
       "      <th>Population 0-14</th>\n",
       "      <th>Population 15-64</th>\n",
       "      <th>Population 65+</th>\n",
       "      <th>Population Total</th>\n",
       "      <th>Population Urban</th>\n",
       "      <th>Region</th>\n",
       "      <th>Tourism Inbound</th>\n",
       "      <th>Tourism Outbound</th>\n",
       "      <th>Header</th>\n",
       "    </tr>\n",
       "  </thead>\n",
       "  <tbody>\n",
       "    <tr>\n",
       "      <th>0</th>\n",
       "      <td>american samoa</td>\n",
       "      <td>1995</td>\n",
       "      <td>28.0</td>\n",
       "      <td>6.0</td>\n",
       "      <td>34.0</td>\n",
       "      <td>0.0</td>\n",
       "      <td>0.0</td>\n",
       "      <td>0.0</td>\n",
       "      <td>0.0</td>\n",
       "      <td>0.0</td>\n",
       "      <td>...</td>\n",
       "      <td>NaN</td>\n",
       "      <td>NaN</td>\n",
       "      <td>NaN</td>\n",
       "      <td>NaN</td>\n",
       "      <td>NaN</td>\n",
       "      <td>NaN</td>\n",
       "      <td>NaN</td>\n",
       "      <td>NaN</td>\n",
       "      <td>NaN</td>\n",
       "      <td>NaN</td>\n",
       "    </tr>\n",
       "    <tr>\n",
       "      <th>1</th>\n",
       "      <td>angola</td>\n",
       "      <td>1995</td>\n",
       "      <td>6.0</td>\n",
       "      <td>3.0</td>\n",
       "      <td>9.0</td>\n",
       "      <td>2.0</td>\n",
       "      <td>1.0</td>\n",
       "      <td>0.0</td>\n",
       "      <td>6.0</td>\n",
       "      <td>0.0</td>\n",
       "      <td>...</td>\n",
       "      <td>NaN</td>\n",
       "      <td>NaN</td>\n",
       "      <td>NaN</td>\n",
       "      <td>NaN</td>\n",
       "      <td>NaN</td>\n",
       "      <td>NaN</td>\n",
       "      <td>NaN</td>\n",
       "      <td>NaN</td>\n",
       "      <td>NaN</td>\n",
       "      <td>NaN</td>\n",
       "    </tr>\n",
       "    <tr>\n",
       "      <th>2</th>\n",
       "      <td>anguilla</td>\n",
       "      <td>1995</td>\n",
       "      <td>104.8</td>\n",
       "      <td>2.3</td>\n",
       "      <td>107.1</td>\n",
       "      <td>0.0</td>\n",
       "      <td>35.0</td>\n",
       "      <td>0.0</td>\n",
       "      <td>2.0</td>\n",
       "      <td>0.0</td>\n",
       "      <td>...</td>\n",
       "      <td>NaN</td>\n",
       "      <td>NaN</td>\n",
       "      <td>NaN</td>\n",
       "      <td>NaN</td>\n",
       "      <td>NaN</td>\n",
       "      <td>NaN</td>\n",
       "      <td>NaN</td>\n",
       "      <td>NaN</td>\n",
       "      <td>NaN</td>\n",
       "      <td>NaN</td>\n",
       "    </tr>\n",
       "    <tr>\n",
       "      <th>3</th>\n",
       "      <td>antigua and barbuda</td>\n",
       "      <td>1995</td>\n",
       "      <td>186.0</td>\n",
       "      <td>5.0</td>\n",
       "      <td>191.0</td>\n",
       "      <td>0.0</td>\n",
       "      <td>124.0</td>\n",
       "      <td>0.0</td>\n",
       "      <td>84.0</td>\n",
       "      <td>0.0</td>\n",
       "      <td>...</td>\n",
       "      <td>NaN</td>\n",
       "      <td>NaN</td>\n",
       "      <td>NaN</td>\n",
       "      <td>NaN</td>\n",
       "      <td>NaN</td>\n",
       "      <td>NaN</td>\n",
       "      <td>NaN</td>\n",
       "      <td>NaN</td>\n",
       "      <td>NaN</td>\n",
       "      <td>NaN</td>\n",
       "    </tr>\n",
       "    <tr>\n",
       "      <th>4</th>\n",
       "      <td>armenia</td>\n",
       "      <td>1995</td>\n",
       "      <td>10.0</td>\n",
       "      <td>2.0</td>\n",
       "      <td>12.0</td>\n",
       "      <td>0.0</td>\n",
       "      <td>2.0</td>\n",
       "      <td>0.0</td>\n",
       "      <td>8.0</td>\n",
       "      <td>0.0</td>\n",
       "      <td>...</td>\n",
       "      <td>NaN</td>\n",
       "      <td>NaN</td>\n",
       "      <td>NaN</td>\n",
       "      <td>NaN</td>\n",
       "      <td>NaN</td>\n",
       "      <td>NaN</td>\n",
       "      <td>NaN</td>\n",
       "      <td>NaN</td>\n",
       "      <td>NaN</td>\n",
       "      <td>NaN</td>\n",
       "    </tr>\n",
       "  </tbody>\n",
       "</table>\n",
       "<p>5 rows × 31 columns</p>\n",
       "</div>"
      ],
      "text/plain": [
       "               Country  Year  Personal  Business  Total  Africa  Americas  \\\n",
       "0       american samoa  1995      28.0       6.0   34.0     0.0       0.0   \n",
       "1               angola  1995       6.0       3.0    9.0     2.0       1.0   \n",
       "2             anguilla  1995     104.8       2.3  107.1     0.0      35.0   \n",
       "3  antigua and barbuda  1995     186.0       5.0  191.0     0.0     124.0   \n",
       "4              armenia  1995      10.0       2.0   12.0     0.0       2.0   \n",
       "\n",
       "   East Asia and Pacific  Europe  Middle East  ...  Number of Records  \\\n",
       "0                    0.0     0.0          0.0  ...                NaN   \n",
       "1                    0.0     6.0          0.0  ...                NaN   \n",
       "2                    0.0     2.0          0.0  ...                NaN   \n",
       "3                    0.0    84.0          0.0  ...                NaN   \n",
       "4                    0.0     8.0          0.0  ...                NaN   \n",
       "\n",
       "   Population 0-14  Population 15-64  Population 65+  Population Total  \\\n",
       "0              NaN               NaN             NaN               NaN   \n",
       "1              NaN               NaN             NaN               NaN   \n",
       "2              NaN               NaN             NaN               NaN   \n",
       "3              NaN               NaN             NaN               NaN   \n",
       "4              NaN               NaN             NaN               NaN   \n",
       "\n",
       "   Population Urban  Region  Tourism Inbound  Tourism Outbound  Header  \n",
       "0               NaN     NaN              NaN               NaN     NaN  \n",
       "1               NaN     NaN              NaN               NaN     NaN  \n",
       "2               NaN     NaN              NaN               NaN     NaN  \n",
       "3               NaN     NaN              NaN               NaN     NaN  \n",
       "4               NaN     NaN              NaN               NaN     NaN  \n",
       "\n",
       "[5 rows x 31 columns]"
      ]
     },
     "execution_count": 11,
     "metadata": {},
     "output_type": "execute_result"
    }
   ],
   "source": [
    "data_df = pd.merge(inbound_data_df, world_ind_df, on=[\"Country\", \"Year\"], how=\"outer\")\n",
    "data_df.head()"
   ]
  },
  {
   "cell_type": "code",
   "execution_count": 12,
   "id": "453fb3aa",
   "metadata": {},
   "outputs": [
    {
     "name": "stdout",
     "output_type": "stream",
     "text": [
      "<class 'pandas.core.frame.DataFrame'>\n",
      "Int64Index: 4780 entries, 0 to 4779\n",
      "Data columns (total 31 columns):\n",
      " #   Column                  Non-Null Count  Dtype  \n",
      "---  ------                  --------------  -----  \n",
      " 0   Country                 4780 non-null   object \n",
      " 1   Year                    4780 non-null   int64  \n",
      " 2   Personal                3667 non-null   float64\n",
      " 3   Business                3667 non-null   float64\n",
      " 4   Total                   3667 non-null   float64\n",
      " 5   Africa                  3667 non-null   float64\n",
      " 6   Americas                3667 non-null   float64\n",
      " 7   East Asia and Pacific   3667 non-null   float64\n",
      " 8   Europe                  3667 non-null   float64\n",
      " 9   Middle East             3667 non-null   float64\n",
      " 10  South Asia              3667 non-null   float64\n",
      " 11  Other not Classified    3667 non-null   float64\n",
      " 12  Birth Rate              2585 non-null   float64\n",
      " 13  GDP                     2494 non-null   float64\n",
      " 14  Health Exp % GDP        2395 non-null   float64\n",
      " 15  Health Exp/Capita       2395 non-null   float64\n",
      " 16  Infant Mortality Rate   2444 non-null   float64\n",
      " 17  Internet Usage          2531 non-null   float64\n",
      " 18  Life Expectancy Female  2568 non-null   float64\n",
      " 19  Life Expectancy Male    2568 non-null   float64\n",
      " 20  Mobile Phone Usage      2537 non-null   float64\n",
      " 21  Number of Records       2704 non-null   float64\n",
      " 22  Population 0-14         2484 non-null   float64\n",
      " 23  Population 15-64        2484 non-null   float64\n",
      " 24  Population 65+          2484 non-null   float64\n",
      " 25  Population Total        2704 non-null   float64\n",
      " 26  Population Urban        2678 non-null   float64\n",
      " 27  Region                  2704 non-null   object \n",
      " 28  Tourism Inbound         2336 non-null   float64\n",
      " 29  Tourism Outbound        2233 non-null   float64\n",
      " 30  Header                  2704 non-null   object \n",
      "dtypes: float64(27), int64(1), object(3)\n",
      "memory usage: 1.2+ MB\n"
     ]
    }
   ],
   "source": [
    "data_df.info()"
   ]
  },
  {
   "cell_type": "code",
   "execution_count": 13,
   "id": "5cb2c7f6",
   "metadata": {},
   "outputs": [],
   "source": [
    "data_df = data_df.dropna()"
   ]
  },
  {
   "cell_type": "code",
   "execution_count": 14,
   "id": "44e8b54d",
   "metadata": {},
   "outputs": [
    {
     "data": {
      "text/html": [
       "<div>\n",
       "<style scoped>\n",
       "    .dataframe tbody tr th:only-of-type {\n",
       "        vertical-align: middle;\n",
       "    }\n",
       "\n",
       "    .dataframe tbody tr th {\n",
       "        vertical-align: top;\n",
       "    }\n",
       "\n",
       "    .dataframe thead th {\n",
       "        text-align: right;\n",
       "    }\n",
       "</style>\n",
       "<table border=\"1\" class=\"dataframe\">\n",
       "  <thead>\n",
       "    <tr style=\"text-align: right;\">\n",
       "      <th></th>\n",
       "      <th>Country</th>\n",
       "      <th>Year</th>\n",
       "      <th>Personal</th>\n",
       "      <th>Business</th>\n",
       "      <th>Total</th>\n",
       "      <th>Africa</th>\n",
       "      <th>Americas</th>\n",
       "      <th>East Asia and Pacific</th>\n",
       "      <th>Europe</th>\n",
       "      <th>Middle East</th>\n",
       "      <th>...</th>\n",
       "      <th>Population 15-64</th>\n",
       "      <th>Population 65+</th>\n",
       "      <th>Population Total</th>\n",
       "      <th>Population Urban</th>\n",
       "      <th>Region</th>\n",
       "      <th>Tourism Inbound</th>\n",
       "      <th>Tourism Outbound</th>\n",
       "      <th>Header</th>\n",
       "      <th>Personal Percentage</th>\n",
       "      <th>Business Percentage</th>\n",
       "    </tr>\n",
       "  </thead>\n",
       "  <tbody>\n",
       "    <tr>\n",
       "      <th>667</th>\n",
       "      <td>albania</td>\n",
       "      <td>2000</td>\n",
       "      <td>218.0</td>\n",
       "      <td>77.0</td>\n",
       "      <td>295.0</td>\n",
       "      <td>0.2</td>\n",
       "      <td>14.0</td>\n",
       "      <td>2.0</td>\n",
       "      <td>295.0</td>\n",
       "      <td>1.0</td>\n",
       "      <td>...</td>\n",
       "      <td>0.628</td>\n",
       "      <td>0.068</td>\n",
       "      <td>3089027.0</td>\n",
       "      <td>0.417</td>\n",
       "      <td>Europe</td>\n",
       "      <td>3.980000e+08</td>\n",
       "      <td>2.900000e+08</td>\n",
       "      <td>Data</td>\n",
       "      <td>73.898305</td>\n",
       "      <td>26.101695</td>\n",
       "    </tr>\n",
       "    <tr>\n",
       "      <th>669</th>\n",
       "      <td>angola</td>\n",
       "      <td>2000</td>\n",
       "      <td>46.0</td>\n",
       "      <td>5.0</td>\n",
       "      <td>51.0</td>\n",
       "      <td>8.0</td>\n",
       "      <td>8.0</td>\n",
       "      <td>3.0</td>\n",
       "      <td>31.0</td>\n",
       "      <td>0.0</td>\n",
       "      <td>...</td>\n",
       "      <td>0.499</td>\n",
       "      <td>0.025</td>\n",
       "      <td>13924930.0</td>\n",
       "      <td>0.324</td>\n",
       "      <td>Africa</td>\n",
       "      <td>3.400000e+07</td>\n",
       "      <td>1.460000e+08</td>\n",
       "      <td>Data</td>\n",
       "      <td>90.196078</td>\n",
       "      <td>9.803922</td>\n",
       "    </tr>\n",
       "    <tr>\n",
       "      <th>671</th>\n",
       "      <td>armenia</td>\n",
       "      <td>2000</td>\n",
       "      <td>41.0</td>\n",
       "      <td>4.0</td>\n",
       "      <td>45.0</td>\n",
       "      <td>0.0</td>\n",
       "      <td>8.0</td>\n",
       "      <td>1.0</td>\n",
       "      <td>25.0</td>\n",
       "      <td>2.0</td>\n",
       "      <td>...</td>\n",
       "      <td>0.641</td>\n",
       "      <td>0.100</td>\n",
       "      <td>3076098.0</td>\n",
       "      <td>0.647</td>\n",
       "      <td>Asia</td>\n",
       "      <td>5.200000e+07</td>\n",
       "      <td>5.600000e+07</td>\n",
       "      <td>Data</td>\n",
       "      <td>91.111111</td>\n",
       "      <td>8.888889</td>\n",
       "    </tr>\n",
       "    <tr>\n",
       "      <th>673</th>\n",
       "      <td>australia</td>\n",
       "      <td>2000</td>\n",
       "      <td>4080.0</td>\n",
       "      <td>851.0</td>\n",
       "      <td>4931.0</td>\n",
       "      <td>79.0</td>\n",
       "      <td>621.0</td>\n",
       "      <td>2912.0</td>\n",
       "      <td>1212.0</td>\n",
       "      <td>35.0</td>\n",
       "      <td>...</td>\n",
       "      <td>0.669</td>\n",
       "      <td>0.124</td>\n",
       "      <td>19153000.0</td>\n",
       "      <td>0.872</td>\n",
       "      <td>Oceania</td>\n",
       "      <td>1.301600e+10</td>\n",
       "      <td>8.780000e+09</td>\n",
       "      <td>Data</td>\n",
       "      <td>82.741837</td>\n",
       "      <td>17.258163</td>\n",
       "    </tr>\n",
       "    <tr>\n",
       "      <th>674</th>\n",
       "      <td>azerbaijan</td>\n",
       "      <td>2000</td>\n",
       "      <td>75.0</td>\n",
       "      <td>606.0</td>\n",
       "      <td>681.0</td>\n",
       "      <td>0.0</td>\n",
       "      <td>0.0</td>\n",
       "      <td>0.0</td>\n",
       "      <td>359.0</td>\n",
       "      <td>0.0</td>\n",
       "      <td>...</td>\n",
       "      <td>0.633</td>\n",
       "      <td>0.056</td>\n",
       "      <td>8048600.0</td>\n",
       "      <td>0.514</td>\n",
       "      <td>Asia</td>\n",
       "      <td>6.800000e+07</td>\n",
       "      <td>1.380000e+08</td>\n",
       "      <td>Data</td>\n",
       "      <td>11.013216</td>\n",
       "      <td>88.986784</td>\n",
       "    </tr>\n",
       "  </tbody>\n",
       "</table>\n",
       "<p>5 rows × 33 columns</p>\n",
       "</div>"
      ],
      "text/plain": [
       "        Country  Year  Personal  Business   Total  Africa  Americas  \\\n",
       "667     albania  2000     218.0      77.0   295.0     0.2      14.0   \n",
       "669      angola  2000      46.0       5.0    51.0     8.0       8.0   \n",
       "671     armenia  2000      41.0       4.0    45.0     0.0       8.0   \n",
       "673   australia  2000    4080.0     851.0  4931.0    79.0     621.0   \n",
       "674  azerbaijan  2000      75.0     606.0   681.0     0.0       0.0   \n",
       "\n",
       "     East Asia and Pacific  Europe  Middle East  ...  Population 15-64  \\\n",
       "667                    2.0   295.0          1.0  ...             0.628   \n",
       "669                    3.0    31.0          0.0  ...             0.499   \n",
       "671                    1.0    25.0          2.0  ...             0.641   \n",
       "673                 2912.0  1212.0         35.0  ...             0.669   \n",
       "674                    0.0   359.0          0.0  ...             0.633   \n",
       "\n",
       "     Population 65+  Population Total  Population Urban   Region  \\\n",
       "667           0.068         3089027.0             0.417   Europe   \n",
       "669           0.025        13924930.0             0.324   Africa   \n",
       "671           0.100         3076098.0             0.647     Asia   \n",
       "673           0.124        19153000.0             0.872  Oceania   \n",
       "674           0.056         8048600.0             0.514     Asia   \n",
       "\n",
       "     Tourism Inbound  Tourism Outbound  Header  Personal Percentage  \\\n",
       "667     3.980000e+08      2.900000e+08    Data            73.898305   \n",
       "669     3.400000e+07      1.460000e+08    Data            90.196078   \n",
       "671     5.200000e+07      5.600000e+07    Data            91.111111   \n",
       "673     1.301600e+10      8.780000e+09    Data            82.741837   \n",
       "674     6.800000e+07      1.380000e+08    Data            11.013216   \n",
       "\n",
       "     Business Percentage  \n",
       "667            26.101695  \n",
       "669             9.803922  \n",
       "671             8.888889  \n",
       "673            17.258163  \n",
       "674            88.986784  \n",
       "\n",
       "[5 rows x 33 columns]"
      ]
     },
     "execution_count": 14,
     "metadata": {},
     "output_type": "execute_result"
    }
   ],
   "source": [
    "#Create percentage columns for the type of tourism.\n",
    "data_df[\"Personal Percentage\"] = data_df.apply(lambda row: (row.Personal/(row.Personal+row.Business))*100, axis = 1)\n",
    "data_df[\"Business Percentage\"] = data_df.apply(lambda row: (row.Business/(row.Personal+row.Business))*100, axis = 1)\n",
    "data_df.head()"
   ]
  },
  {
   "cell_type": "code",
   "execution_count": 15,
   "id": "9742e40a",
   "metadata": {},
   "outputs": [
    {
     "data": {
      "text/plain": [
       "Country                    object\n",
       "Year                        int64\n",
       "Personal                  float64\n",
       "Business                  float64\n",
       "Total                     float64\n",
       "Africa                    float64\n",
       "Americas                  float64\n",
       "East Asia and Pacific     float64\n",
       "Europe                    float64\n",
       "Middle East               float64\n",
       "South Asia                float64\n",
       "Other not Classified      float64\n",
       "Birth Rate                float64\n",
       "GDP                       float64\n",
       "Health Exp % GDP          float64\n",
       "Health Exp/Capita         float64\n",
       "Infant Mortality Rate     float64\n",
       "Internet Usage            float64\n",
       "Life Expectancy Female    float64\n",
       "Life Expectancy Male      float64\n",
       "Mobile Phone Usage        float64\n",
       "Number of Records         float64\n",
       "Population 0-14           float64\n",
       "Population 15-64          float64\n",
       "Population 65+            float64\n",
       "Population Total          float64\n",
       "Population Urban          float64\n",
       "Region                     object\n",
       "Tourism Inbound           float64\n",
       "Tourism Outbound          float64\n",
       "Header                     object\n",
       "Personal Percentage       float64\n",
       "Business Percentage       float64\n",
       "dtype: object"
      ]
     },
     "execution_count": 15,
     "metadata": {},
     "output_type": "execute_result"
    }
   ],
   "source": [
    "data_df.dtypes"
   ]
  },
  {
   "cell_type": "code",
   "execution_count": 16,
   "id": "d7541945",
   "metadata": {},
   "outputs": [],
   "source": [
    "def tourism_type(x):\n",
    "    if x >= 85:\n",
    "        return \"Personal\"\n",
    "    else:\n",
    "        return \"Business\""
   ]
  },
  {
   "cell_type": "code",
   "execution_count": 17,
   "id": "f7e6994c",
   "metadata": {},
   "outputs": [
    {
     "data": {
      "text/html": [
       "<div>\n",
       "<style scoped>\n",
       "    .dataframe tbody tr th:only-of-type {\n",
       "        vertical-align: middle;\n",
       "    }\n",
       "\n",
       "    .dataframe tbody tr th {\n",
       "        vertical-align: top;\n",
       "    }\n",
       "\n",
       "    .dataframe thead th {\n",
       "        text-align: right;\n",
       "    }\n",
       "</style>\n",
       "<table border=\"1\" class=\"dataframe\">\n",
       "  <thead>\n",
       "    <tr style=\"text-align: right;\">\n",
       "      <th></th>\n",
       "      <th>Country</th>\n",
       "      <th>Year</th>\n",
       "      <th>Personal</th>\n",
       "      <th>Business</th>\n",
       "      <th>Total</th>\n",
       "      <th>Africa</th>\n",
       "      <th>Americas</th>\n",
       "      <th>East Asia and Pacific</th>\n",
       "      <th>Europe</th>\n",
       "      <th>Middle East</th>\n",
       "      <th>...</th>\n",
       "      <th>Population 65+</th>\n",
       "      <th>Population Total</th>\n",
       "      <th>Population Urban</th>\n",
       "      <th>Region</th>\n",
       "      <th>Tourism Inbound</th>\n",
       "      <th>Tourism Outbound</th>\n",
       "      <th>Header</th>\n",
       "      <th>Personal Percentage</th>\n",
       "      <th>Business Percentage</th>\n",
       "      <th>Higher Tourism Percentage</th>\n",
       "    </tr>\n",
       "  </thead>\n",
       "  <tbody>\n",
       "    <tr>\n",
       "      <th>667</th>\n",
       "      <td>albania</td>\n",
       "      <td>2000</td>\n",
       "      <td>218.0</td>\n",
       "      <td>77.0</td>\n",
       "      <td>295.0</td>\n",
       "      <td>0.2</td>\n",
       "      <td>14.0</td>\n",
       "      <td>2.0</td>\n",
       "      <td>295.0</td>\n",
       "      <td>1.0</td>\n",
       "      <td>...</td>\n",
       "      <td>0.068</td>\n",
       "      <td>3089027.0</td>\n",
       "      <td>0.417</td>\n",
       "      <td>Europe</td>\n",
       "      <td>3.980000e+08</td>\n",
       "      <td>2.900000e+08</td>\n",
       "      <td>Data</td>\n",
       "      <td>73.898305</td>\n",
       "      <td>26.101695</td>\n",
       "      <td>Business</td>\n",
       "    </tr>\n",
       "    <tr>\n",
       "      <th>669</th>\n",
       "      <td>angola</td>\n",
       "      <td>2000</td>\n",
       "      <td>46.0</td>\n",
       "      <td>5.0</td>\n",
       "      <td>51.0</td>\n",
       "      <td>8.0</td>\n",
       "      <td>8.0</td>\n",
       "      <td>3.0</td>\n",
       "      <td>31.0</td>\n",
       "      <td>0.0</td>\n",
       "      <td>...</td>\n",
       "      <td>0.025</td>\n",
       "      <td>13924930.0</td>\n",
       "      <td>0.324</td>\n",
       "      <td>Africa</td>\n",
       "      <td>3.400000e+07</td>\n",
       "      <td>1.460000e+08</td>\n",
       "      <td>Data</td>\n",
       "      <td>90.196078</td>\n",
       "      <td>9.803922</td>\n",
       "      <td>Personal</td>\n",
       "    </tr>\n",
       "    <tr>\n",
       "      <th>671</th>\n",
       "      <td>armenia</td>\n",
       "      <td>2000</td>\n",
       "      <td>41.0</td>\n",
       "      <td>4.0</td>\n",
       "      <td>45.0</td>\n",
       "      <td>0.0</td>\n",
       "      <td>8.0</td>\n",
       "      <td>1.0</td>\n",
       "      <td>25.0</td>\n",
       "      <td>2.0</td>\n",
       "      <td>...</td>\n",
       "      <td>0.100</td>\n",
       "      <td>3076098.0</td>\n",
       "      <td>0.647</td>\n",
       "      <td>Asia</td>\n",
       "      <td>5.200000e+07</td>\n",
       "      <td>5.600000e+07</td>\n",
       "      <td>Data</td>\n",
       "      <td>91.111111</td>\n",
       "      <td>8.888889</td>\n",
       "      <td>Personal</td>\n",
       "    </tr>\n",
       "    <tr>\n",
       "      <th>673</th>\n",
       "      <td>australia</td>\n",
       "      <td>2000</td>\n",
       "      <td>4080.0</td>\n",
       "      <td>851.0</td>\n",
       "      <td>4931.0</td>\n",
       "      <td>79.0</td>\n",
       "      <td>621.0</td>\n",
       "      <td>2912.0</td>\n",
       "      <td>1212.0</td>\n",
       "      <td>35.0</td>\n",
       "      <td>...</td>\n",
       "      <td>0.124</td>\n",
       "      <td>19153000.0</td>\n",
       "      <td>0.872</td>\n",
       "      <td>Oceania</td>\n",
       "      <td>1.301600e+10</td>\n",
       "      <td>8.780000e+09</td>\n",
       "      <td>Data</td>\n",
       "      <td>82.741837</td>\n",
       "      <td>17.258163</td>\n",
       "      <td>Business</td>\n",
       "    </tr>\n",
       "    <tr>\n",
       "      <th>674</th>\n",
       "      <td>azerbaijan</td>\n",
       "      <td>2000</td>\n",
       "      <td>75.0</td>\n",
       "      <td>606.0</td>\n",
       "      <td>681.0</td>\n",
       "      <td>0.0</td>\n",
       "      <td>0.0</td>\n",
       "      <td>0.0</td>\n",
       "      <td>359.0</td>\n",
       "      <td>0.0</td>\n",
       "      <td>...</td>\n",
       "      <td>0.056</td>\n",
       "      <td>8048600.0</td>\n",
       "      <td>0.514</td>\n",
       "      <td>Asia</td>\n",
       "      <td>6.800000e+07</td>\n",
       "      <td>1.380000e+08</td>\n",
       "      <td>Data</td>\n",
       "      <td>11.013216</td>\n",
       "      <td>88.986784</td>\n",
       "      <td>Business</td>\n",
       "    </tr>\n",
       "  </tbody>\n",
       "</table>\n",
       "<p>5 rows × 34 columns</p>\n",
       "</div>"
      ],
      "text/plain": [
       "        Country  Year  Personal  Business   Total  Africa  Americas  \\\n",
       "667     albania  2000     218.0      77.0   295.0     0.2      14.0   \n",
       "669      angola  2000      46.0       5.0    51.0     8.0       8.0   \n",
       "671     armenia  2000      41.0       4.0    45.0     0.0       8.0   \n",
       "673   australia  2000    4080.0     851.0  4931.0    79.0     621.0   \n",
       "674  azerbaijan  2000      75.0     606.0   681.0     0.0       0.0   \n",
       "\n",
       "     East Asia and Pacific  Europe  Middle East  ...  Population 65+  \\\n",
       "667                    2.0   295.0          1.0  ...           0.068   \n",
       "669                    3.0    31.0          0.0  ...           0.025   \n",
       "671                    1.0    25.0          2.0  ...           0.100   \n",
       "673                 2912.0  1212.0         35.0  ...           0.124   \n",
       "674                    0.0   359.0          0.0  ...           0.056   \n",
       "\n",
       "     Population Total  Population Urban   Region  Tourism Inbound  \\\n",
       "667         3089027.0             0.417   Europe     3.980000e+08   \n",
       "669        13924930.0             0.324   Africa     3.400000e+07   \n",
       "671         3076098.0             0.647     Asia     5.200000e+07   \n",
       "673        19153000.0             0.872  Oceania     1.301600e+10   \n",
       "674         8048600.0             0.514     Asia     6.800000e+07   \n",
       "\n",
       "     Tourism Outbound  Header  Personal Percentage  Business Percentage  \\\n",
       "667      2.900000e+08    Data            73.898305            26.101695   \n",
       "669      1.460000e+08    Data            90.196078             9.803922   \n",
       "671      5.600000e+07    Data            91.111111             8.888889   \n",
       "673      8.780000e+09    Data            82.741837            17.258163   \n",
       "674      1.380000e+08    Data            11.013216            88.986784   \n",
       "\n",
       "     Higher Tourism Percentage  \n",
       "667                   Business  \n",
       "669                   Personal  \n",
       "671                   Personal  \n",
       "673                   Business  \n",
       "674                   Business  \n",
       "\n",
       "[5 rows x 34 columns]"
      ]
     },
     "execution_count": 17,
     "metadata": {},
     "output_type": "execute_result"
    }
   ],
   "source": [
    "data_df[\"Higher Tourism Percentage\"] = data_df[\"Personal Percentage\"].apply(tourism_type)\n",
    "data_df.head()"
   ]
  },
  {
   "cell_type": "code",
   "execution_count": 18,
   "id": "35407acb",
   "metadata": {},
   "outputs": [],
   "source": [
    "data_df = data_df.drop([\"Region\", \"Header\", \"Country\"], axis=1)"
   ]
  },
  {
   "cell_type": "code",
   "execution_count": 19,
   "id": "b04bd9ad",
   "metadata": {},
   "outputs": [],
   "source": [
    "#Seperate the feature X from the target y\n",
    "y = data_df['Higher Tourism Percentage']\n",
    "X = data_df.drop(columns=['Higher Tourism Percentage'])"
   ]
  },
  {
   "cell_type": "code",
   "execution_count": 20,
   "id": "6c2f6051",
   "metadata": {},
   "outputs": [
    {
     "data": {
      "text/plain": [
       "(951, 30)"
      ]
     },
     "execution_count": 20,
     "metadata": {},
     "output_type": "execute_result"
    }
   ],
   "source": [
    "#Split, train, and test\n",
    "from sklearn.model_selection import train_test_split\n",
    "\n",
    "X_train, X_test, y_train, y_test = train_test_split(X, y, random_state = 2, stratify = y)\n",
    "\n",
    "X_train.shape"
   ]
  },
  {
   "cell_type": "code",
   "execution_count": 21,
   "id": "b8c935f2",
   "metadata": {},
   "outputs": [],
   "source": [
    "from sklearn.preprocessing import StandardScaler\n",
    "\n",
    "#Create a StandardScaler instances\n",
    "scaler = StandardScaler()\n",
    "\n",
    "#Fit\n",
    "X_scaler = scaler.fit(X_train)\n",
    "\n",
    "#Scale the data\n",
    "X_train_scaled = X_scaler.transform(X_train)\n",
    "X_test_scaled = X_scaler.transform(X_test)"
   ]
  },
  {
   "cell_type": "code",
   "execution_count": 22,
   "id": "fcb4c321",
   "metadata": {},
   "outputs": [],
   "source": [
    "#Create a Logistic Regression Model\n",
    "from sklearn.linear_model import LogisticRegression\n",
    "classifier = LogisticRegression(solver='lbfgs', max_iter=200, random_state=1)"
   ]
  },
  {
   "cell_type": "code",
   "execution_count": 23,
   "id": "b373b77f",
   "metadata": {},
   "outputs": [
    {
     "data": {
      "text/plain": [
       "LogisticRegression(max_iter=200, random_state=1)"
      ]
     },
     "execution_count": 23,
     "metadata": {},
     "output_type": "execute_result"
    }
   ],
   "source": [
    "#Fit (train) or model using the training data\n",
    "classifier.fit(X_train_scaled, y_train)"
   ]
  },
  {
   "cell_type": "code",
   "execution_count": 24,
   "id": "79b1b9fd",
   "metadata": {},
   "outputs": [
    {
     "data": {
      "text/html": [
       "<div>\n",
       "<style scoped>\n",
       "    .dataframe tbody tr th:only-of-type {\n",
       "        vertical-align: middle;\n",
       "    }\n",
       "\n",
       "    .dataframe tbody tr th {\n",
       "        vertical-align: top;\n",
       "    }\n",
       "\n",
       "    .dataframe thead th {\n",
       "        text-align: right;\n",
       "    }\n",
       "</style>\n",
       "<table border=\"1\" class=\"dataframe\">\n",
       "  <thead>\n",
       "    <tr style=\"text-align: right;\">\n",
       "      <th></th>\n",
       "      <th>Prediction</th>\n",
       "      <th>Actual</th>\n",
       "    </tr>\n",
       "  </thead>\n",
       "  <tbody>\n",
       "    <tr>\n",
       "      <th>0</th>\n",
       "      <td>Business</td>\n",
       "      <td>Business</td>\n",
       "    </tr>\n",
       "    <tr>\n",
       "      <th>1</th>\n",
       "      <td>Personal</td>\n",
       "      <td>Personal</td>\n",
       "    </tr>\n",
       "    <tr>\n",
       "      <th>2</th>\n",
       "      <td>Personal</td>\n",
       "      <td>Personal</td>\n",
       "    </tr>\n",
       "    <tr>\n",
       "      <th>3</th>\n",
       "      <td>Personal</td>\n",
       "      <td>Personal</td>\n",
       "    </tr>\n",
       "    <tr>\n",
       "      <th>4</th>\n",
       "      <td>Business</td>\n",
       "      <td>Business</td>\n",
       "    </tr>\n",
       "  </tbody>\n",
       "</table>\n",
       "</div>"
      ],
      "text/plain": [
       "  Prediction    Actual\n",
       "0   Business  Business\n",
       "1   Personal  Personal\n",
       "2   Personal  Personal\n",
       "3   Personal  Personal\n",
       "4   Business  Business"
      ]
     },
     "execution_count": 24,
     "metadata": {},
     "output_type": "execute_result"
    }
   ],
   "source": [
    "#Predictions\n",
    "y_pred = classifier.predict(X_test_scaled)\n",
    "results = pd.DataFrame({\"Prediction\": y_pred, \"Actual\": y_test}).reset_index(drop=True)\n",
    "results.head()"
   ]
  },
  {
   "cell_type": "code",
   "execution_count": 25,
   "id": "b6b66f5f",
   "metadata": {},
   "outputs": [
    {
     "name": "stdout",
     "output_type": "stream",
     "text": [
      "0.9937106918238994\n"
     ]
    }
   ],
   "source": [
    "#Accuracy score\n",
    "from sklearn.metrics import accuracy_score\n",
    "print(accuracy_score(y_test, y_pred))"
   ]
  },
  {
   "cell_type": "code",
   "execution_count": 26,
   "id": "49bd4fac",
   "metadata": {},
   "outputs": [
    {
     "name": "stdout",
     "output_type": "stream",
     "text": [
      "[[164   2]\n",
      " [  0 152]]\n"
     ]
    }
   ],
   "source": [
    "from sklearn.metrics import confusion_matrix, classification_report\n",
    "matrix = confusion_matrix(y_test, y_pred)\n",
    "print(matrix)"
   ]
  },
  {
   "cell_type": "code",
   "execution_count": 27,
   "id": "d49fffb8",
   "metadata": {},
   "outputs": [
    {
     "name": "stdout",
     "output_type": "stream",
     "text": [
      "              precision    recall  f1-score   support\n",
      "\n",
      "    Business       1.00      0.99      0.99       166\n",
      "    Personal       0.99      1.00      0.99       152\n",
      "\n",
      "    accuracy                           0.99       318\n",
      "   macro avg       0.99      0.99      0.99       318\n",
      "weighted avg       0.99      0.99      0.99       318\n",
      "\n"
     ]
    }
   ],
   "source": [
    "report = classification_report(y_test, y_pred)\n",
    "print(report)"
   ]
  },
  {
   "cell_type": "code",
   "execution_count": 28,
   "id": "30e48853",
   "metadata": {},
   "outputs": [],
   "source": [
    "from sklearn.svm import SVC\n",
    "model = SVC(kernel='linear')"
   ]
  },
  {
   "cell_type": "code",
   "execution_count": 29,
   "id": "9f518abf",
   "metadata": {},
   "outputs": [
    {
     "data": {
      "text/plain": [
       "SVC(kernel='linear')"
      ]
     },
     "execution_count": 29,
     "metadata": {},
     "output_type": "execute_result"
    }
   ],
   "source": [
    "#Fit\n",
    "model.fit(X_train_scaled, y_train)"
   ]
  },
  {
   "cell_type": "code",
   "execution_count": 30,
   "id": "511783dc",
   "metadata": {},
   "outputs": [
    {
     "name": "stderr",
     "output_type": "stream",
     "text": [
      "/Users/loulwaalkaissi/opt/anaconda3/envs/mlenv/lib/python3.7/site-packages/sklearn/base.py:439: UserWarning: X has feature names, but SVC was fitted without feature names\n",
      "  f\"X has feature names, but {self.__class__.__name__} was fitted without\"\n"
     ]
    },
    {
     "data": {
      "text/html": [
       "<div>\n",
       "<style scoped>\n",
       "    .dataframe tbody tr th:only-of-type {\n",
       "        vertical-align: middle;\n",
       "    }\n",
       "\n",
       "    .dataframe tbody tr th {\n",
       "        vertical-align: top;\n",
       "    }\n",
       "\n",
       "    .dataframe thead th {\n",
       "        text-align: right;\n",
       "    }\n",
       "</style>\n",
       "<table border=\"1\" class=\"dataframe\">\n",
       "  <thead>\n",
       "    <tr style=\"text-align: right;\">\n",
       "      <th></th>\n",
       "      <th>Prediction</th>\n",
       "      <th>Actual</th>\n",
       "    </tr>\n",
       "  </thead>\n",
       "  <tbody>\n",
       "    <tr>\n",
       "      <th>0</th>\n",
       "      <td>Business</td>\n",
       "      <td>Business</td>\n",
       "    </tr>\n",
       "    <tr>\n",
       "      <th>1</th>\n",
       "      <td>Business</td>\n",
       "      <td>Personal</td>\n",
       "    </tr>\n",
       "    <tr>\n",
       "      <th>2</th>\n",
       "      <td>Business</td>\n",
       "      <td>Personal</td>\n",
       "    </tr>\n",
       "    <tr>\n",
       "      <th>3</th>\n",
       "      <td>Business</td>\n",
       "      <td>Personal</td>\n",
       "    </tr>\n",
       "    <tr>\n",
       "      <th>4</th>\n",
       "      <td>Business</td>\n",
       "      <td>Business</td>\n",
       "    </tr>\n",
       "  </tbody>\n",
       "</table>\n",
       "</div>"
      ],
      "text/plain": [
       "  Prediction    Actual\n",
       "0   Business  Business\n",
       "1   Business  Personal\n",
       "2   Business  Personal\n",
       "3   Business  Personal\n",
       "4   Business  Business"
      ]
     },
     "execution_count": 30,
     "metadata": {},
     "output_type": "execute_result"
    }
   ],
   "source": [
    "y_pred = model.predict(X_test)\n",
    "results = pd.DataFrame({\"Prediction\": y_pred, \"Actual\": y_test}).reset_index(drop=True)\n",
    "results.head()"
   ]
  },
  {
   "cell_type": "code",
   "execution_count": 31,
   "id": "2e656cad",
   "metadata": {},
   "outputs": [
    {
     "name": "stdout",
     "output_type": "stream",
     "text": [
      "0.5471698113207547\n"
     ]
    }
   ],
   "source": [
    "print(accuracy_score(y_test, y_pred))"
   ]
  },
  {
   "cell_type": "code",
   "execution_count": 32,
   "id": "e196d715",
   "metadata": {},
   "outputs": [
    {
     "data": {
      "text/plain": [
       "array([[166,   0],\n",
       "       [144,   8]])"
      ]
     },
     "execution_count": 32,
     "metadata": {},
     "output_type": "execute_result"
    }
   ],
   "source": [
    "confusion_matrix(y_test, y_pred)"
   ]
  },
  {
   "cell_type": "code",
   "execution_count": 33,
   "id": "e28e38a1",
   "metadata": {},
   "outputs": [
    {
     "name": "stdout",
     "output_type": "stream",
     "text": [
      "              precision    recall  f1-score   support\n",
      "\n",
      "    Business       0.54      1.00      0.70       166\n",
      "    Personal       1.00      0.05      0.10       152\n",
      "\n",
      "    accuracy                           0.55       318\n",
      "   macro avg       0.77      0.53      0.40       318\n",
      "weighted avg       0.76      0.55      0.41       318\n",
      "\n"
     ]
    }
   ],
   "source": [
    "from sklearn.metrics import classification_report\n",
    "print(classification_report(y_test, y_pred))"
   ]
  },
  {
   "cell_type": "code",
   "execution_count": 34,
   "id": "421ba006",
   "metadata": {},
   "outputs": [],
   "source": [
    "#Linear Regression Model\n",
    "y = data_df['Business Percentage']\n",
    "X = data_df['Personal Percentage']"
   ]
  },
  {
   "cell_type": "code",
   "execution_count": 35,
   "id": "2e67c7eb",
   "metadata": {},
   "outputs": [],
   "source": [
    "model2 = LinearRegression()"
   ]
  },
  {
   "cell_type": "code",
   "execution_count": 36,
   "id": "99e4047d",
   "metadata": {},
   "outputs": [
    {
     "data": {
      "image/png": "[encoded data removed]",
      "text/plain": [
       "<Figure size 432x288 with 1 Axes>"
      ]
     },
     "metadata": {
      "needs_background": "light"
     },
     "output_type": "display_data"
    }
   ],
   "source": [
    "plt.scatter(data_df['Personal Percentage'], data_df['Business Percentage'])\n",
    "plt.xlabel('Personal Tourism Persentage')\n",
    "plt.ylabel('Business Tourism Persentage')\n",
    "plt.show()"
   ]
  },
  {
   "cell_type": "code",
   "execution_count": 37,
   "id": "12e94709",
   "metadata": {},
   "outputs": [],
   "source": [
    "X = data_df['Business Percentage'].values.reshape(-1, 1)"
   ]
  },
  {
   "cell_type": "code",
   "execution_count": 38,
   "id": "6b8f7e59",
   "metadata": {},
   "outputs": [
    {
     "data": {
      "text/plain": [
       "LinearRegression()"
      ]
     },
     "execution_count": 38,
     "metadata": {},
     "output_type": "execute_result"
    }
   ],
   "source": [
    "model2.fit(X, y)"
   ]
  },
  {
   "cell_type": "code",
   "execution_count": 39,
   "id": "aed19b63",
   "metadata": {},
   "outputs": [
    {
     "name": "stdout",
     "output_type": "stream",
     "text": [
      "(1269,)\n"
     ]
    }
   ],
   "source": [
    "y_pred = model2.predict(X)\n",
    "print(y_pred.shape)"
   ]
  },
  {
   "cell_type": "code",
   "execution_count": 40,
   "id": "6783c1ef",
   "metadata": {},
   "outputs": [
    {
     "data": {
      "image/png": "[encoded data removed]",
      "text/plain": [
       "<Figure size 432x288 with 1 Axes>"
      ]
     },
     "metadata": {
      "needs_background": "light"
     },
     "output_type": "display_data"
    }
   ],
   "source": [
    "plt.scatter(X,y)\n",
    "plt.plot(X, y_pred, color='red')\n",
    "plt.show()"
   ]
  },
  {
   "cell_type": "code",
   "execution_count": 41,
   "id": "aa096e68",
   "metadata": {},
   "outputs": [
    {
     "name": "stdout",
     "output_type": "stream",
     "text": [
      "[1.]\n",
      "0.0\n"
     ]
    }
   ],
   "source": [
    "print(model2.coef_)\n",
    "print(model2.intercept_)"
   ]
  },
  {
   "cell_type": "code",
   "execution_count": 42,
   "id": "e2339516",
   "metadata": {},
   "outputs": [
    {
     "data": {
      "text/plain": [
       "DecisionTreeClassifier()"
      ]
     },
     "execution_count": 42,
     "metadata": {},
     "output_type": "execute_result"
    }
   ],
   "source": [
    "from sklearn import tree\n",
    "#Creating decision tree classifier\n",
    "model3 = tree.DecisionTreeClassifier()\n",
    "#Fit\n",
    "model3.fit(X_train_scaled, y_train)"
   ]
  },
  {
   "cell_type": "code",
   "execution_count": 43,
   "id": "2124c4f1",
   "metadata": {},
   "outputs": [],
   "source": [
    "#Making predictions\n",
    "predictions = model.predict(X_test_scaled)"
   ]
  },
  {
   "cell_type": "code",
   "execution_count": 44,
   "id": "1fb3ec99",
   "metadata": {},
   "outputs": [
    {
     "data": {
      "text/plain": [
       "array(['Business', 'Personal', 'Personal', 'Personal', 'Business',\n",
       "       'Business', 'Business', 'Business', 'Business', 'Personal',\n",
       "       'Business', 'Business', 'Personal', 'Business', 'Personal',\n",
       "       'Business', 'Business', 'Business', 'Business', 'Business',\n",
       "       'Business', 'Personal', 'Personal', 'Personal', 'Personal',\n",
       "       'Business', 'Business', 'Business', 'Business', 'Business',\n",
       "       'Personal', 'Personal', 'Personal', 'Business', 'Personal',\n",
       "       'Business', 'Business', 'Personal', 'Personal', 'Personal',\n",
       "       'Personal', 'Business', 'Personal', 'Personal', 'Personal',\n",
       "       'Business', 'Business', 'Business', 'Business', 'Business',\n",
       "       'Business', 'Business', 'Business', 'Personal', 'Business',\n",
       "       'Business', 'Business', 'Personal', 'Personal', 'Business',\n",
       "       'Business', 'Business', 'Business', 'Business', 'Business',\n",
       "       'Personal', 'Business', 'Personal', 'Personal', 'Business',\n",
       "       'Personal', 'Business', 'Business', 'Personal', 'Business',\n",
       "       'Personal', 'Personal', 'Personal', 'Personal', 'Personal',\n",
       "       'Personal', 'Personal', 'Business', 'Business', 'Business',\n",
       "       'Personal', 'Personal', 'Business', 'Personal', 'Business',\n",
       "       'Personal', 'Personal', 'Business', 'Personal', 'Personal',\n",
       "       'Personal', 'Personal', 'Business', 'Business', 'Business',\n",
       "       'Business', 'Business', 'Personal', 'Personal', 'Business',\n",
       "       'Business', 'Personal', 'Business', 'Business', 'Business',\n",
       "       'Business', 'Business', 'Personal', 'Personal', 'Business',\n",
       "       'Personal', 'Personal', 'Personal', 'Business', 'Business',\n",
       "       'Personal', 'Business', 'Personal', 'Business', 'Personal',\n",
       "       'Personal', 'Business', 'Business', 'Personal', 'Business',\n",
       "       'Business', 'Business', 'Business', 'Personal', 'Business',\n",
       "       'Business', 'Business', 'Business', 'Business', 'Personal',\n",
       "       'Business', 'Business', 'Personal', 'Personal', 'Personal',\n",
       "       'Business', 'Personal', 'Business', 'Personal', 'Business',\n",
       "       'Business', 'Business', 'Personal', 'Personal', 'Personal',\n",
       "       'Business', 'Personal', 'Business', 'Business', 'Business',\n",
       "       'Personal', 'Personal', 'Business', 'Business', 'Personal',\n",
       "       'Personal', 'Business', 'Personal', 'Business', 'Business',\n",
       "       'Personal', 'Business', 'Business', 'Business', 'Business',\n",
       "       'Business', 'Business', 'Personal', 'Personal', 'Business',\n",
       "       'Business', 'Personal', 'Business', 'Business', 'Personal',\n",
       "       'Business', 'Business', 'Business', 'Personal', 'Personal',\n",
       "       'Business', 'Personal', 'Personal', 'Personal', 'Personal',\n",
       "       'Personal', 'Personal', 'Business', 'Business', 'Personal',\n",
       "       'Business', 'Personal', 'Personal', 'Personal', 'Business',\n",
       "       'Business', 'Personal', 'Business', 'Business', 'Personal',\n",
       "       'Business', 'Personal', 'Personal', 'Personal', 'Personal',\n",
       "       'Personal', 'Business', 'Personal', 'Business', 'Business',\n",
       "       'Business', 'Business', 'Personal', 'Personal', 'Personal',\n",
       "       'Business', 'Business', 'Business', 'Business', 'Personal',\n",
       "       'Personal', 'Personal', 'Personal', 'Personal', 'Business',\n",
       "       'Personal', 'Business', 'Personal', 'Business', 'Business',\n",
       "       'Personal', 'Personal', 'Personal', 'Business', 'Business',\n",
       "       'Personal', 'Personal', 'Business', 'Personal', 'Business',\n",
       "       'Personal', 'Business', 'Personal', 'Personal', 'Personal',\n",
       "       'Business', 'Personal', 'Personal', 'Personal', 'Personal',\n",
       "       'Business', 'Business', 'Business', 'Personal', 'Personal',\n",
       "       'Business', 'Business', 'Personal', 'Business', 'Personal',\n",
       "       'Personal', 'Business', 'Business', 'Personal', 'Personal',\n",
       "       'Personal', 'Personal', 'Personal', 'Business', 'Personal',\n",
       "       'Personal', 'Business', 'Personal', 'Personal', 'Business',\n",
       "       'Business', 'Personal', 'Personal', 'Business', 'Personal',\n",
       "       'Personal', 'Business', 'Business', 'Personal', 'Business',\n",
       "       'Business', 'Personal', 'Business', 'Personal', 'Business',\n",
       "       'Personal', 'Personal', 'Business', 'Business', 'Business',\n",
       "       'Personal', 'Personal', 'Business', 'Personal', 'Business',\n",
       "       'Personal', 'Personal', 'Business', 'Personal', 'Business',\n",
       "       'Personal', 'Personal', 'Personal'], dtype=object)"
      ]
     },
     "execution_count": 44,
     "metadata": {},
     "output_type": "execute_result"
    }
   ],
   "source": [
    "predictions"
   ]
  },
  {
   "cell_type": "code",
   "execution_count": 45,
   "id": "77048bba",
   "metadata": {},
   "outputs": [
    {
     "data": {
      "text/html": [
       "<div>\n",
       "<style scoped>\n",
       "    .dataframe tbody tr th:only-of-type {\n",
       "        vertical-align: middle;\n",
       "    }\n",
       "\n",
       "    .dataframe tbody tr th {\n",
       "        vertical-align: top;\n",
       "    }\n",
       "\n",
       "    .dataframe thead th {\n",
       "        text-align: right;\n",
       "    }\n",
       "</style>\n",
       "<table border=\"1\" class=\"dataframe\">\n",
       "  <thead>\n",
       "    <tr style=\"text-align: right;\">\n",
       "      <th></th>\n",
       "      <th>Predict Business</th>\n",
       "      <th>Predict Personal</th>\n",
       "    </tr>\n",
       "  </thead>\n",
       "  <tbody>\n",
       "    <tr>\n",
       "      <th>Actual Business</th>\n",
       "      <td>163</td>\n",
       "      <td>3</td>\n",
       "    </tr>\n",
       "    <tr>\n",
       "      <th>Actual Personal</th>\n",
       "      <td>0</td>\n",
       "      <td>152</td>\n",
       "    </tr>\n",
       "  </tbody>\n",
       "</table>\n",
       "</div>"
      ],
      "text/plain": [
       "                 Predict Business  Predict Personal\n",
       "Actual Business               163                 3\n",
       "Actual Personal                 0               152"
      ]
     },
     "execution_count": 45,
     "metadata": {},
     "output_type": "execute_result"
    }
   ],
   "source": [
    "#Confusion matrix\n",
    "cm = confusion_matrix(y_test, predictions)\n",
    "\n",
    "#Create a DataFrame from cm\n",
    "cm_df = pd.DataFrame(cm, index=[\"Actual Business\", \"Actual Personal\"], columns=[\"Predict Business\", \"Predict Personal\"])\n",
    "cm_df"
   ]
  },
  {
   "cell_type": "code",
   "execution_count": 48,
   "id": "9ca5bcf9",
   "metadata": {},
   "outputs": [
    {
     "data": {
      "text/plain": [
       "0.9905660377358491"
      ]
     },
     "execution_count": 48,
     "metadata": {},
     "output_type": "execute_result"
    }
   ],
   "source": [
    "#Calculate accuracy score\n",
    "acc_score = accuracy_score(y_test, predictions)\n",
    "acc_score"
   ]
  },
  {
   "cell_type": "code",
   "execution_count": 51,
   "id": "4b0df2e6",
   "metadata": {},
   "outputs": [
    {
     "name": "stdout",
     "output_type": "stream",
     "text": [
      "Conusion Matrix\n"
     ]
    },
    {
     "data": {
      "text/html": [
       "<div>\n",
       "<style scoped>\n",
       "    .dataframe tbody tr th:only-of-type {\n",
       "        vertical-align: middle;\n",
       "    }\n",
       "\n",
       "    .dataframe tbody tr th {\n",
       "        vertical-align: top;\n",
       "    }\n",
       "\n",
       "    .dataframe thead th {\n",
       "        text-align: right;\n",
       "    }\n",
       "</style>\n",
       "<table border=\"1\" class=\"dataframe\">\n",
       "  <thead>\n",
       "    <tr style=\"text-align: right;\">\n",
       "      <th></th>\n",
       "      <th>Predict Business</th>\n",
       "      <th>Predict Personal</th>\n",
       "    </tr>\n",
       "  </thead>\n",
       "  <tbody>\n",
       "    <tr>\n",
       "      <th>Actual Business</th>\n",
       "      <td>163</td>\n",
       "      <td>3</td>\n",
       "    </tr>\n",
       "    <tr>\n",
       "      <th>Actual Personal</th>\n",
       "      <td>0</td>\n",
       "      <td>152</td>\n",
       "    </tr>\n",
       "  </tbody>\n",
       "</table>\n",
       "</div>"
      ],
      "text/plain": [
       "                 Predict Business  Predict Personal\n",
       "Actual Business               163                 3\n",
       "Actual Personal                 0               152"
      ]
     },
     "metadata": {},
     "output_type": "display_data"
    },
    {
     "name": "stdout",
     "output_type": "stream",
     "text": [
      "Accuracy Score : 0.9905660377358491\n",
      "Classification Report\n",
      "              precision    recall  f1-score   support\n",
      "\n",
      "    Business       1.00      0.98      0.99       166\n",
      "    Personal       0.98      1.00      0.99       152\n",
      "\n",
      "    accuracy                           0.99       318\n",
      "   macro avg       0.99      0.99      0.99       318\n",
      "weighted avg       0.99      0.99      0.99       318\n",
      "\n"
     ]
    }
   ],
   "source": [
    "#results\n",
    "print(\"Conusion Matrix\")\n",
    "display(cm_df)\n",
    "print(f\"Accuracy Score : {acc_score}\")\n",
    "print(\"Classification Report\")\n",
    "print(classification_report(y_test, predictions))"
   ]
  },
  {
   "cell_type": "code",
   "execution_count": null,
   "id": "79195293",
   "metadata": {},
   "outputs": [],
   "source": []
  }
 ],
 "metadata": {
  "kernelspec": {
   "display_name": "mlenv",
   "language": "python",
   "name": "mlenv"
  },
  "language_info": {
   "codemirror_mode": {
    "name": "ipython",
    "version": 3
   },
   "file_extension": ".py",
   "mimetype": "text/x-python",
   "name": "python",
   "nbconvert_exporter": "python",
   "pygments_lexer": "ipython3",
   "version": "3.7.11"
  }
 },
 "nbformat": 4,
 "nbformat_minor": 5
}
